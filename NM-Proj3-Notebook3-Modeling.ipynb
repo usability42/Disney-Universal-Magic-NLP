{
 "cells": [
  {
   "cell_type": "markdown",
   "id": "5a52cf1d",
   "metadata": {},
   "source": [
    "Nadia Morgen - Project 3, Notebook 3: Modeling"
   ]
  },
  {
   "cell_type": "markdown",
   "id": "744bbdbc",
   "metadata": {},
   "source": [
    "# Step 3: Modeling"
   ]
  },
  {
   "cell_type": "code",
   "execution_count": 20,
   "id": "f584dae8",
   "metadata": {},
   "outputs": [],
   "source": [
    "import pandas as pd\n",
    "import numpy as np\n",
    "import matplotlib.pyplot as plt\n",
    "import nltk\n",
    "import seaborn as sns\n",
    "from sklearn.feature_extraction.text import CountVectorizer\n",
    "from sklearn.model_selection import cross_val_score, train_test_split, GridSearchCV, KFold\n",
    "from sklearn.ensemble import RandomForestClassifier, ExtraTreesClassifier\n",
    "from sklearn.linear_model import LogisticRegression\n",
    "from sklearn import metrics\n",
    "from sklearn.metrics import mean_squared_error\n",
    "import statsmodels.api as sm\n",
    "import statsmodels.formula.api as smf\n",
    "from sklearn.model_selection import cross_validate\n",
    "from sklearn.datasets import make_classification\n",
    "\n",
    "from sklearn.ensemble import GradientBoostingClassifier, AdaBoostClassifier, VotingClassifier\n",
    "from sklearn.tree import DecisionTreeClassifier\n",
    "from sklearn.neighbors import KNeighborsClassifier\n",
    "from sklearn.pipeline import Pipeline\n",
    "from sklearn.preprocessing import StandardScaler\n",
    "from sklearn.naive_bayes import MultinomialNB\n",
    "from sklearn.metrics import confusion_matrix, plot_confusion_matrix"
   ]
  },
  {
   "cell_type": "code",
   "execution_count": 10,
   "id": "ff562e46",
   "metadata": {},
   "outputs": [
    {
     "name": "stdout",
     "output_type": "stream",
     "text": [
      "/Users/nadiamorgen/General_Assembly/week_1/dsir-82/projects/project-3\r\n"
     ]
    }
   ],
   "source": [
    "!pwd"
   ]
  },
  {
   "cell_type": "code",
   "execution_count": 13,
   "id": "e880ab9c",
   "metadata": {},
   "outputs": [],
   "source": [
    "df = pd.read_csv('data_finally_clean.csv')\n",
    "df2 = pd.read_csv('df2_clean.csv')"
   ]
  },
  {
   "cell_type": "code",
   "execution_count": null,
   "id": "b15a5dab",
   "metadata": {},
   "outputs": [],
   "source": [
    "df.drop(columns=['Unnamed: 0', 'Unnamed: 0.1'], inplace=True)"
   ]
  },
  {
   "cell_type": "code",
   "execution_count": null,
   "id": "78e156ac",
   "metadata": {
    "scrolled": true
   },
   "outputs": [],
   "source": [
    "df.head(3)"
   ]
  },
  {
   "cell_type": "code",
   "execution_count": null,
   "id": "66fa1608",
   "metadata": {
    "scrolled": true
   },
   "outputs": [],
   "source": [
    "df2.head(1)"
   ]
  },
  {
   "cell_type": "code",
   "execution_count": null,
   "id": "5c084c9d",
   "metadata": {},
   "outputs": [],
   "source": [
    "# This column keeps disappearing on me\n",
    "df2 = pd.get_dummies(df2, columns=['subreddit'])"
   ]
  },
  {
   "cell_type": "code",
   "execution_count": null,
   "id": "82cbb776",
   "metadata": {},
   "outputs": [],
   "source": [
    "df2.drop(columns='subreddit_universalstudios', inplace=True)\n",
    "df2.rename({'subreddit_disneyparks':'disney_y'}, axis=1, inplace=True)"
   ]
  },
  {
   "cell_type": "code",
   "execution_count": null,
   "id": "c02b2ce7",
   "metadata": {
    "scrolled": true
   },
   "outputs": [],
   "source": [
    "df2.head(1)"
   ]
  },
  {
   "cell_type": "markdown",
   "id": "7212ee50",
   "metadata": {},
   "source": [
    "# Null Model"
   ]
  },
  {
   "cell_type": "code",
   "execution_count": null,
   "id": "0d3eac81",
   "metadata": {},
   "outputs": [],
   "source": [
    "# Null Model\n",
    "df['disney_y'].value_counts(normalize=True)"
   ]
  },
  {
   "cell_type": "markdown",
   "id": "de48ed59",
   "metadata": {},
   "source": [
    "This means that about half of the predictions will be Disney and half will be Universal."
   ]
  },
  {
   "cell_type": "code",
   "execution_count": null,
   "id": "fd2ad2c5",
   "metadata": {
    "scrolled": true
   },
   "outputs": [],
   "source": [
    "df.columns"
   ]
  },
  {
   "cell_type": "code",
   "execution_count": null,
   "id": "c7c30fb6",
   "metadata": {},
   "outputs": [],
   "source": [
    "df2.columns"
   ]
  },
  {
   "cell_type": "markdown",
   "id": "9fb98c10",
   "metadata": {},
   "source": [
    "# Logistic Regression"
   ]
  },
  {
   "cell_type": "markdown",
   "id": "e02bc694",
   "metadata": {},
   "source": [
    "Quantitative Models of Selftext Word Count and Title Word Count vs Subreddit\n",
    "* Note that the title_word_count field is cleaned, tokenized, and lemmatized"
   ]
  },
  {
   "cell_type": "code",
   "execution_count": null,
   "id": "baf98fd2",
   "metadata": {},
   "outputs": [],
   "source": [
    "lgr = LogisticRegression()"
   ]
  },
  {
   "cell_type": "code",
   "execution_count": null,
   "id": "fc02b978",
   "metadata": {},
   "outputs": [],
   "source": [
    "X_lgr = df[['title_word_count']]\n",
    "y_lgr = df['disney_y']"
   ]
  },
  {
   "cell_type": "code",
   "execution_count": null,
   "id": "36599bd0",
   "metadata": {},
   "outputs": [],
   "source": [
    "X_train_lgr, X_test_lgr, y_train_lgr, y_test_lgr = train_test_split(X_lgr, y_lgr, test_size=.33, random_state=42, stratify = y)"
   ]
  },
  {
   "cell_type": "code",
   "execution_count": null,
   "id": "2eadb766",
   "metadata": {},
   "outputs": [],
   "source": [
    "lgr.fit(X_lgr, y_lgr)"
   ]
  },
  {
   "cell_type": "code",
   "execution_count": null,
   "id": "1743721c",
   "metadata": {},
   "outputs": [],
   "source": [
    "# Make predictions\n",
    "y_pred_lgr = lgr.predict(X_lgr)\n",
    "\n",
    "# Create residuals\n",
    "resids_lgr = y_lgr - y_pred_lgr"
   ]
  },
  {
   "cell_type": "code",
   "execution_count": null,
   "id": "711fd0c3",
   "metadata": {},
   "outputs": [],
   "source": [
    "lgr.score(X_train_lgr, y_train_lgr)"
   ]
  },
  {
   "cell_type": "code",
   "execution_count": null,
   "id": "824a84d8",
   "metadata": {},
   "outputs": [],
   "source": [
    "lgr.score(X_test_lgr, y_test_lgr)"
   ]
  },
  {
   "cell_type": "markdown",
   "id": "3f6ee45a",
   "metadata": {},
   "source": [
    "Well, there's no overfit, since the two logistic regression scores are nearly equal.  However - and not surprisingly - the model is also very close to the Null model.  It's really no improvement.  Title word count does not help predict whether a subreddit title is from disneyparks or universalstudios."
   ]
  },
  {
   "cell_type": "code",
   "execution_count": null,
   "id": "4ad44016",
   "metadata": {},
   "outputs": [],
   "source": [
    "df2 = sm.add_constant(df2, has_constant='add')"
   ]
  },
  {
   "cell_type": "code",
   "execution_count": null,
   "id": "86d24d14",
   "metadata": {},
   "outputs": [],
   "source": [
    "# Verify that constant was added"
   ]
  },
  {
   "cell_type": "code",
   "execution_count": null,
   "id": "70fb0712",
   "metadata": {},
   "outputs": [],
   "source": [
    "df2.head(1)"
   ]
  },
  {
   "cell_type": "markdown",
   "id": "3bd2945e",
   "metadata": {},
   "source": [
    "This time I'll try selftext word count, using the smaller (df2) dataset, since it looked like there was a significant difference in length in the plots shown earlier."
   ]
  },
  {
   "cell_type": "code",
   "execution_count": null,
   "id": "579019fc",
   "metadata": {},
   "outputs": [],
   "source": [
    "Xst = df2[['const', 'selftext_word_count']]\n",
    "yst = df2['disney_y']\n",
    "results = sm.Logit(yst, Xst).fit()\n",
    "\n",
    "print(results.summary())"
   ]
  },
  {
   "cell_type": "markdown",
   "id": "a3238c86",
   "metadata": {},
   "source": [
    "Although the p-value is fantastic and the R2 and adjusted R2 are identical, the R-squareds are lousy and indicate no correlation between selftext word count and subreddit."
   ]
  },
  {
   "cell_type": "markdown",
   "id": "dbfcea17",
   "metadata": {},
   "source": [
    "# Random Forest Classifier"
   ]
  },
  {
   "cell_type": "markdown",
   "id": "17c1e3a7",
   "metadata": {},
   "source": [
    "Using a random forest classifier to analyze the text of statuses is another way to approach reddit classification.  The idea is to see whether random forest classification can accurately distinguish between the disneyparks and universalparks subreddits."
   ]
  },
  {
   "cell_type": "code",
   "execution_count": 23,
   "id": "19a1d198",
   "metadata": {},
   "outputs": [],
   "source": [
    "# Title analysis - use all 10,177 rows\n",
    "\n",
    "X = df['cln_lmn_tok_title']\n",
    "y = df['disney_y']\n",
    "X_train, X_test, y_train, y_test = train_test_split(X, y, test_size=.33, random_state=42, stratify = y)"
   ]
  },
  {
   "cell_type": "code",
   "execution_count": 94,
   "id": "4240f830",
   "metadata": {},
   "outputs": [
    {
     "data": {
      "text/plain": [
       "GridSearchCV(cv=5,\n",
       "             estimator=Pipeline(steps=[('cv', CountVectorizer()),\n",
       "                                       ('rf',\n",
       "                                        RandomForestClassifier(n_estimators=10,\n",
       "                                                               random_state=42))]),\n",
       "             n_jobs=-1,\n",
       "             param_grid={'cv__max_df': [0.9, 0.95],\n",
       "                         'cv__max_features': [2000, 3000, 4000, 5000],\n",
       "                         'cv__min_df': [2, 3],\n",
       "                         'cv__ngram_range': [(1, 1), (1, 2)],\n",
       "                         'cv__stop_words': ['english']})"
      ]
     },
     "execution_count": 94,
     "metadata": {},
     "output_type": "execute_result"
    }
   ],
   "source": [
    "# Instantiate CountVectorizer and Random Forest Classifier\n",
    "\n",
    "pipe = Pipeline([\n",
    "    ('cv', CountVectorizer()),\n",
    "    ('rf', RandomForestClassifier(n_estimators=10, random_state=42))\n",
    "])\n",
    "\n",
    "pipe_params = {\n",
    "    'cv__max_features': [2000, 3000, 4000, 5000],\n",
    "    'cv__min_df': [2, 3],\n",
    "    'cv__max_df': [0.9, 0.95],\n",
    "    'cv__ngram_range': [(1,1), (1,2)],\n",
    "    'cv__stop_words': ['english']\n",
    "}\n",
    "\n",
    "# Instantiate GridSearchCV.\n",
    "gs = GridSearchCV(\n",
    "    # what object are we optimizing?\n",
    "    estimator = pipe,\n",
    "    # what parameters values are we searching?\n",
    "    param_grid = pipe_params,\n",
    "    # 5-fold cross-validation.\n",
    "    cv = 5,\n",
    "    n_jobs = -1\n",
    ")\n",
    "\n",
    "gs.fit(X_train, y_train)"
   ]
  },
  {
   "cell_type": "code",
   "execution_count": 95,
   "id": "f518b4c9",
   "metadata": {},
   "outputs": [
    {
     "data": {
      "text/plain": [
       "0.7805836271980687"
      ]
     },
     "execution_count": 95,
     "metadata": {},
     "output_type": "execute_result"
    }
   ],
   "source": [
    "gs.best_score_"
   ]
  },
  {
   "cell_type": "code",
   "execution_count": 96,
   "id": "07594820",
   "metadata": {},
   "outputs": [
    {
     "data": {
      "text/plain": [
       "{'cv__max_df': 0.9,\n",
       " 'cv__max_features': 3000,\n",
       " 'cv__min_df': 3,\n",
       " 'cv__ngram_range': (1, 2),\n",
       " 'cv__stop_words': 'english'}"
      ]
     },
     "execution_count": 96,
     "metadata": {},
     "output_type": "execute_result"
    }
   ],
   "source": [
    "gs.best_params_"
   ]
  },
  {
   "cell_type": "markdown",
   "id": "08243a6d",
   "metadata": {},
   "source": [
    "This score is a good start, but I'm hoping to do better.  "
   ]
  },
  {
   "cell_type": "code",
   "execution_count": 32,
   "id": "fb2e748a",
   "metadata": {},
   "outputs": [],
   "source": [
    "et = ExtraTreesClassifier()"
   ]
  },
  {
   "cell_type": "code",
   "execution_count": 100,
   "id": "41781a95",
   "metadata": {},
   "outputs": [
    {
     "data": {
      "text/plain": [
       "GridSearchCV(cv=5,\n",
       "             estimator=Pipeline(steps=[('cv', CountVectorizer()),\n",
       "                                       ('et',\n",
       "                                        ExtraTreesClassifier(n_estimators=10,\n",
       "                                                             random_state=42))]),\n",
       "             n_jobs=-1,\n",
       "             param_grid={'cv__max_df': [0.9, 0.95],\n",
       "                         'cv__max_features': [2000, 3000, 4000, 5000],\n",
       "                         'cv__min_df': [2, 3],\n",
       "                         'cv__ngram_range': [(1, 1), (1, 2)],\n",
       "                         'cv__stop_words': ['english']})"
      ]
     },
     "execution_count": 100,
     "metadata": {},
     "output_type": "execute_result"
    }
   ],
   "source": [
    "# Instantiate CountVectorizer and Extra Trees Classifier\n",
    "\n",
    "pipe = Pipeline([\n",
    "    ('cv', CountVectorizer()),\n",
    "    ('et', ExtraTreesClassifier(n_estimators=10, random_state=42))\n",
    "])\n",
    "\n",
    "pipe_params = {\n",
    "    'cv__max_features': [2000, 3000, 4000, 5000],\n",
    "    'cv__min_df': [2, 3],\n",
    "    'cv__max_df': [0.9, 0.95],\n",
    "    'cv__ngram_range': [(1,1), (1,2)],\n",
    "    'cv__stop_words': ['english']\n",
    "}\n",
    "\n",
    "# Instantiate GridSearchCV.\n",
    "gs_et = GridSearchCV(\n",
    "    # what object are we optimizing?\n",
    "    estimator = pipe,\n",
    "    # what parameters values are we searching?\n",
    "    param_grid = pipe_params,\n",
    "    # 5-fold cross-validation.\n",
    "    cv = 5,\n",
    "    n_jobs = -1\n",
    ")\n",
    "\n",
    "gs_et.fit(X_train, y_train)"
   ]
  },
  {
   "cell_type": "code",
   "execution_count": 101,
   "id": "fcad0726",
   "metadata": {
    "scrolled": true
   },
   "outputs": [
    {
     "data": {
      "text/plain": [
       "0.788793479968071"
      ]
     },
     "execution_count": 101,
     "metadata": {},
     "output_type": "execute_result"
    }
   ],
   "source": [
    "gs_et.best_score_"
   ]
  },
  {
   "cell_type": "markdown",
   "id": "c00c9731",
   "metadata": {},
   "source": [
    "The Extra Trees Classifier did not improve upon the Random Forest Classifier."
   ]
  },
  {
   "cell_type": "markdown",
   "id": "0bbcfdbc",
   "metadata": {},
   "source": [
    "# Naive Bayes"
   ]
  },
  {
   "cell_type": "code",
   "execution_count": 102,
   "id": "67cd3691",
   "metadata": {},
   "outputs": [],
   "source": [
    "# Instantiate CountVectorizer and Multinomial Naive Bayes\n",
    "\n",
    "pipe = Pipeline([\n",
    "    ('cv', CountVectorizer()),\n",
    "    ('mnb', MultinomialNB())\n",
    "])"
   ]
  },
  {
   "cell_type": "code",
   "execution_count": 103,
   "id": "3ed73374",
   "metadata": {},
   "outputs": [
    {
     "data": {
      "text/plain": [
       "0.8173950581329302"
      ]
     },
     "execution_count": 103,
     "metadata": {},
     "output_type": "execute_result"
    }
   ],
   "source": [
    "# Use pipeline object as model\n",
    "cross_val_score(pipe, X_train, y_train, cv=3).mean()"
   ]
  },
  {
   "cell_type": "code",
   "execution_count": 104,
   "id": "c996a5d2",
   "metadata": {},
   "outputs": [
    {
     "data": {
      "text/plain": [
       "Pipeline(steps=[('cv', CountVectorizer()), ('mnb', MultinomialNB())])"
      ]
     },
     "execution_count": 104,
     "metadata": {},
     "output_type": "execute_result"
    }
   ],
   "source": [
    "# Fit the model\n",
    "pipe.fit(X_train, y_train)"
   ]
  },
  {
   "cell_type": "code",
   "execution_count": 105,
   "id": "d510424c",
   "metadata": {},
   "outputs": [
    {
     "data": {
      "text/plain": [
       "0.8407264066686514"
      ]
     },
     "execution_count": 105,
     "metadata": {},
     "output_type": "execute_result"
    }
   ],
   "source": [
    "# Test score\n",
    "pipe.score(X_test, y_test)"
   ]
  },
  {
   "cell_type": "code",
   "execution_count": 107,
   "id": "1cba4b6d",
   "metadata": {},
   "outputs": [
    {
     "data": {
      "image/png": "[encoded data removed]",
      "text/plain": [
       "<Figure size 432x288 with 2 Axes>"
      ]
     },
     "metadata": {
      "needs_background": "light"
     },
     "output_type": "display_data"
    }
   ],
   "source": [
    "# Model 3 predictions\n",
    "preds3 = pipe.predict(X_test)\n",
    "\n",
    "# Model 3 Confusion Matrix Values\n",
    "tn, fp, fn, tp = confusion_matrix(y_test, preds3).ravel()\n",
    "\n",
    "# View confusion matrix\n",
    "plot_confusion_matrix(pipe, X_test, y_test, cmap='Blues', values_format='d');"
   ]
  },
  {
   "cell_type": "markdown",
   "id": "acbc0ca4",
   "metadata": {},
   "source": [
    "These numbers look far more promising, although it's a little odd for the test data to perform better than the training data.  There's definitely no overfit, but there could be some bias."
   ]
  },
  {
   "cell_type": "code",
   "execution_count": 108,
   "id": "8f0a45c3",
   "metadata": {},
   "outputs": [
    {
     "data": {
      "text/plain": [
       "0.8283671036948749"
      ]
     },
     "execution_count": 108,
     "metadata": {},
     "output_type": "execute_result"
    }
   ],
   "source": [
    "# Specificity\n",
    "spec = tn / (tn + fp)\n",
    "spec"
   ]
  },
  {
   "cell_type": "code",
   "execution_count": 109,
   "id": "9fdbd092",
   "metadata": {},
   "outputs": [
    {
     "data": {
      "text/plain": [
       "0.8327526132404182"
      ]
     },
     "execution_count": 109,
     "metadata": {},
     "output_type": "execute_result"
    }
   ],
   "source": [
    "# Precision\n",
    "prec = tp / (tp + fp)\n",
    "prec"
   ]
  },
  {
   "cell_type": "markdown",
   "id": "783df0b3",
   "metadata": {},
   "source": [
    "# Naive Bayes + Grid Search"
   ]
  },
  {
   "cell_type": "markdown",
   "id": "6d26ae6d",
   "metadata": {},
   "source": [
    "Grid Search 1:"
   ]
  },
  {
   "cell_type": "code",
   "execution_count": 39,
   "id": "da9caf28",
   "metadata": {},
   "outputs": [],
   "source": [
    "pipe_params = {\n",
    "    'cv__max_features': [2000, 3000, 4000, 5000],\n",
    "    'cv__min_df': [2, 3],\n",
    "    'cv__max_df': [0.9, 0.95],\n",
    "    'cv__ngram_range': [(1,1), (1,2)]\n",
    "}"
   ]
  },
  {
   "cell_type": "code",
   "execution_count": 40,
   "id": "d65e8ff2",
   "metadata": {},
   "outputs": [],
   "source": [
    "# Instantiate GridSearchCV.\n",
    "gs = GridSearchCV(\n",
    "    # what object are we optimizing?\n",
    "    estimator = pipe,\n",
    "    # what parameters values are we searching?\n",
    "    param_grid = pipe_params,\n",
    "    # 5-fold cross-validation.\n",
    "    cv = 5,\n",
    "    n_jobs = -1\n",
    ")"
   ]
  },
  {
   "cell_type": "code",
   "execution_count": 41,
   "id": "326bd5f8",
   "metadata": {},
   "outputs": [
    {
     "data": {
      "text/plain": [
       "GridSearchCV(cv=5,\n",
       "             estimator=Pipeline(steps=[('cv', CountVectorizer()),\n",
       "                                       ('mnb', MultinomialNB())]),\n",
       "             n_jobs=-1,\n",
       "             param_grid={'cv__max_df': [0.9, 0.95],\n",
       "                         'cv__max_features': [2000, 3000, 4000, 5000],\n",
       "                         'cv__min_df': [2, 3],\n",
       "                         'cv__ngram_range': [(1, 1), (1, 2)]})"
      ]
     },
     "execution_count": 41,
     "metadata": {},
     "output_type": "execute_result"
    }
   ],
   "source": [
    "gs.fit(X_train, y_train)"
   ]
  },
  {
   "cell_type": "code",
   "execution_count": 42,
   "id": "ebe08181",
   "metadata": {},
   "outputs": [
    {
     "data": {
      "text/plain": [
       "0.8175411966444557"
      ]
     },
     "execution_count": 42,
     "metadata": {},
     "output_type": "execute_result"
    }
   ],
   "source": [
    "gs.best_score_"
   ]
  },
  {
   "cell_type": "code",
   "execution_count": 43,
   "id": "bb067a14",
   "metadata": {},
   "outputs": [
    {
     "data": {
      "text/plain": [
       "{'cv__max_df': 0.9,\n",
       " 'cv__max_features': 5000,\n",
       " 'cv__min_df': 2,\n",
       " 'cv__ngram_range': (1, 2)}"
      ]
     },
     "execution_count": 43,
     "metadata": {},
     "output_type": "execute_result"
    }
   ],
   "source": [
    "gs.best_params_"
   ]
  },
  {
   "cell_type": "markdown",
   "id": "39c2274e",
   "metadata": {},
   "source": [
    "Grid Search 2:"
   ]
  },
  {
   "cell_type": "code",
   "execution_count": 44,
   "id": "eb980844",
   "metadata": {},
   "outputs": [],
   "source": [
    "# Modify params to try to improve scores\n",
    "\n",
    "pipe_params = {\n",
    "    'cv__max_features': [4000, 5000, 6000, 7000],\n",
    "    'cv__min_df': [1, 2, 3],\n",
    "    'cv__max_df': [0.9, 0.95],\n",
    "    'cv__ngram_range': [(1,1), (1,2), (1,2,3)]\n",
    "}"
   ]
  },
  {
   "cell_type": "code",
   "execution_count": 45,
   "id": "af8459e8",
   "metadata": {},
   "outputs": [],
   "source": [
    "# Instantiate GridSearchCV.\n",
    "gs2 = GridSearchCV(\n",
    "    # what object are we optimizing?\n",
    "    estimator = pipe,\n",
    "    # what parameters values are we searching?\n",
    "    param_grid = pipe_params,\n",
    "    # 5-fold cross-validation.\n",
    "    cv = 5,\n",
    "    n_jobs = -1\n",
    ")"
   ]
  },
  {
   "cell_type": "code",
   "execution_count": 46,
   "id": "af38b934",
   "metadata": {},
   "outputs": [
    {
     "data": {
      "text/plain": [
       "GridSearchCV(cv=5,\n",
       "             estimator=Pipeline(steps=[('cv', CountVectorizer()),\n",
       "                                       ('mnb', MultinomialNB())]),\n",
       "             n_jobs=-1,\n",
       "             param_grid={'cv__max_df': [0.9, 0.95],\n",
       "                         'cv__max_features': [4000, 5000, 6000, 7000],\n",
       "                         'cv__min_df': [1, 2, 3],\n",
       "                         'cv__ngram_range': [(1, 1), (1, 2)]})"
      ]
     },
     "execution_count": 46,
     "metadata": {},
     "output_type": "execute_result"
    }
   ],
   "source": [
    "gs2.fit(X_train, y_train)"
   ]
  },
  {
   "cell_type": "code",
   "execution_count": 47,
   "id": "57dc0064",
   "metadata": {},
   "outputs": [
    {
     "data": {
      "text/plain": [
       "0.821794794560042"
      ]
     },
     "execution_count": 47,
     "metadata": {},
     "output_type": "execute_result"
    }
   ],
   "source": [
    "gs2.best_score_"
   ]
  },
  {
   "cell_type": "code",
   "execution_count": 48,
   "id": "c5768b49",
   "metadata": {},
   "outputs": [
    {
     "data": {
      "text/plain": [
       "{'cv__max_df': 0.9,\n",
       " 'cv__max_features': 7000,\n",
       " 'cv__min_df': 1,\n",
       " 'cv__ngram_range': (1, 2)}"
      ]
     },
     "execution_count": 48,
     "metadata": {},
     "output_type": "execute_result"
    }
   ],
   "source": [
    "gs2.best_params_"
   ]
  },
  {
   "cell_type": "raw",
   "id": "6667b46f",
   "metadata": {},
   "source": [
    "There was only minimal improvement in the best score, but the output suggest that I might not have found the best parameters yet.\n",
    "\n",
    "Based on the the results of the first two GridSearches, I'm going to increase the maximum number of features, leave the min_df the same, add words that appear in 85% of the documents, and leave the ngram the same at (1,2)."
   ]
  },
  {
   "cell_type": "markdown",
   "id": "2c8c7595",
   "metadata": {},
   "source": [
    "Grid Search 3:"
   ]
  },
  {
   "cell_type": "code",
   "execution_count": 65,
   "id": "946a8c21",
   "metadata": {},
   "outputs": [],
   "source": [
    "# Modify params to try to improve model\n",
    "\n",
    "pipe_params = {\n",
    "    'cv__max_features': [7000, 8000, 9000, 10000],\n",
    "    'cv__min_df': [1, 2],\n",
    "    'cv__max_df': [0.85, 0.9],\n",
    "    'cv__ngram_range': [(1,2)]\n",
    "}"
   ]
  },
  {
   "cell_type": "code",
   "execution_count": 66,
   "id": "c794cd23",
   "metadata": {},
   "outputs": [],
   "source": [
    "# Instantiate GridSearchCV.\n",
    "gs3 = GridSearchCV(\n",
    "    # what object are we optimizing?\n",
    "    estimator = pipe,\n",
    "    # what parameters values are we searching?\n",
    "    param_grid = pipe_params,\n",
    "    # 5-fold cross-validation.\n",
    "    cv = 5,\n",
    "    n_jobs = -1\n",
    ")"
   ]
  },
  {
   "cell_type": "code",
   "execution_count": 67,
   "id": "5fd99483",
   "metadata": {},
   "outputs": [
    {
     "data": {
      "text/plain": [
       "GridSearchCV(cv=5,\n",
       "             estimator=Pipeline(steps=[('cv', CountVectorizer()),\n",
       "                                       ('mnb', MultinomialNB())]),\n",
       "             n_jobs=-1,\n",
       "             param_grid={'cv__max_df': [0.85, 0.9],\n",
       "                         'cv__max_features': [7000, 8000, 9000, 10000],\n",
       "                         'cv__min_df': [1, 2], 'cv__ngram_range': [(1, 2)]})"
      ]
     },
     "execution_count": 67,
     "metadata": {},
     "output_type": "execute_result"
    }
   ],
   "source": [
    "gs3.fit(X_train, y_train)"
   ]
  },
  {
   "cell_type": "code",
   "execution_count": 68,
   "id": "0b45a0c4",
   "metadata": {
    "scrolled": true
   },
   "outputs": [
    {
     "data": {
      "text/plain": [
       "0.841024114319738"
      ]
     },
     "execution_count": 68,
     "metadata": {},
     "output_type": "execute_result"
    }
   ],
   "source": [
    "gs3.score(X_test, y_test)"
   ]
  },
  {
   "cell_type": "code",
   "execution_count": 69,
   "id": "e2d51be7",
   "metadata": {},
   "outputs": [
    {
     "data": {
      "text/plain": [
       "0.8238475804837957"
      ]
     },
     "execution_count": 69,
     "metadata": {},
     "output_type": "execute_result"
    }
   ],
   "source": [
    "gs3.best_score_"
   ]
  },
  {
   "cell_type": "code",
   "execution_count": 54,
   "id": "34c23d49",
   "metadata": {},
   "outputs": [
    {
     "data": {
      "text/plain": [
       "{'cv__max_df': 0.85,\n",
       " 'cv__max_features': 9000,\n",
       " 'cv__min_df': 2,\n",
       " 'cv__ngram_range': (1, 2)}"
      ]
     },
     "execution_count": 54,
     "metadata": {},
     "output_type": "execute_result"
    }
   ],
   "source": [
    "gs3.best_params_"
   ]
  },
  {
   "cell_type": "markdown",
   "id": "054ec19c",
   "metadata": {},
   "source": [
    "I'm going to home in on the number of features.  I'm also going to adjust the max_df."
   ]
  },
  {
   "cell_type": "markdown",
   "id": "e0203e7c",
   "metadata": {},
   "source": [
    "Grid Search 4:"
   ]
  },
  {
   "cell_type": "code",
   "execution_count": 55,
   "id": "5a4f8736",
   "metadata": {},
   "outputs": [],
   "source": [
    "pipe_params = {\n",
    "    'cv__max_features': [8500, 9000, 9500],\n",
    "    'cv__min_df': [1, 2],\n",
    "    'cv__max_df': [0.75, 0.80, 0.85],\n",
    "    'cv__ngram_range': [(1,2)]\n",
    "}"
   ]
  },
  {
   "cell_type": "code",
   "execution_count": 56,
   "id": "8ecb117c",
   "metadata": {},
   "outputs": [],
   "source": [
    "# Instantiate GridSearchCV.\n",
    "gs4 = GridSearchCV(\n",
    "    # what object are we optimizing?\n",
    "    estimator = pipe,\n",
    "    # what parameters values are we searching?\n",
    "    param_grid = pipe_params,\n",
    "    # 5-fold cross-validation.\n",
    "    cv = 5,\n",
    "    n_jobs = -1\n",
    ")"
   ]
  },
  {
   "cell_type": "code",
   "execution_count": 57,
   "id": "e7fcb47f",
   "metadata": {},
   "outputs": [
    {
     "data": {
      "text/plain": [
       "GridSearchCV(cv=5,\n",
       "             estimator=Pipeline(steps=[('cv', CountVectorizer()),\n",
       "                                       ('mnb', MultinomialNB())]),\n",
       "             n_jobs=-1,\n",
       "             param_grid={'cv__max_df': [0.75, 0.8, 0.85],\n",
       "                         'cv__max_features': [8500, 9000, 9500],\n",
       "                         'cv__min_df': [1, 2], 'cv__ngram_range': [(1, 2)]})"
      ]
     },
     "execution_count": 57,
     "metadata": {},
     "output_type": "execute_result"
    }
   ],
   "source": [
    "gs4.fit(X_train, y_train)"
   ]
  },
  {
   "cell_type": "code",
   "execution_count": 58,
   "id": "f73bb04c",
   "metadata": {},
   "outputs": [
    {
     "data": {
      "text/plain": [
       "0.8413218219708246"
      ]
     },
     "execution_count": 58,
     "metadata": {},
     "output_type": "execute_result"
    }
   ],
   "source": [
    "gs4.score(X_test, y_test)"
   ]
  },
  {
   "cell_type": "code",
   "execution_count": 59,
   "id": "b1d46e05",
   "metadata": {},
   "outputs": [
    {
     "data": {
      "text/plain": [
       "0.8238475804837957"
      ]
     },
     "execution_count": 59,
     "metadata": {},
     "output_type": "execute_result"
    }
   ],
   "source": [
    "gs4.best_score_"
   ]
  },
  {
   "cell_type": "code",
   "execution_count": 60,
   "id": "8f73d97d",
   "metadata": {},
   "outputs": [
    {
     "data": {
      "text/plain": [
       "{'cv__max_df': 0.75,\n",
       " 'cv__max_features': 8500,\n",
       " 'cv__min_df': 2,\n",
       " 'cv__ngram_range': (1, 2)}"
      ]
     },
     "execution_count": 60,
     "metadata": {},
     "output_type": "execute_result"
    }
   ],
   "source": [
    "gs4.best_params_"
   ]
  },
  {
   "cell_type": "markdown",
   "id": "79f73faa",
   "metadata": {},
   "source": [
    "The best scores for Grid Searches 3 and 4 are identical; the score differs slightly.  The best grid search score is .824.  Since the Gridsearch scores are much closer together, I believe that the Naive Bayes Multinomial model using Gridsearch lassification 4 is the best model.  Model 4 accurately classifies 1 more post than Model 3 does, per the confusion matrices below."
   ]
  },
  {
   "cell_type": "markdown",
   "id": "99216999",
   "metadata": {},
   "source": [
    "Confusion Matrices: Models 3 and 4"
   ]
  },
  {
   "cell_type": "code",
   "execution_count": 82,
   "id": "b654be08",
   "metadata": {
    "scrolled": true
   },
   "outputs": [
    {
     "data": {
      "image/png": "[encoded data removed]",
      "text/plain": [
       "<Figure size 432x288 with 2 Axes>"
      ]
     },
     "metadata": {
      "needs_background": "light"
     },
     "output_type": "display_data"
    }
   ],
   "source": [
    "# Model 3 predictions\n",
    "preds3 = gs3.predict(X_test)\n",
    "\n",
    "# Model 3 Confusion Matrix Values\n",
    "tn, fp, fn, tp = confusion_matrix(y_test, preds3).ravel()\n",
    "\n",
    "# View confusion matrix\n",
    "plot_confusion_matrix(gs3, X_test, y_test, cmap='Reds', values_format='d');"
   ]
  },
  {
   "cell_type": "markdown",
   "id": "49900086",
   "metadata": {},
   "source": [
    "Model 4 Preds and Confusion Matrix:"
   ]
  },
  {
   "cell_type": "code",
   "execution_count": null,
   "id": "53ef3fbf",
   "metadata": {},
   "outputs": [],
   "source": [
    "gs4.score(X_test, y_test)"
   ]
  },
  {
   "cell_type": "markdown",
   "id": "98eb8b8e",
   "metadata": {},
   "source": [
    "83.4% accuracy is a good score.  However, could it be better?  In other words, could the branding between Disney and Universal be more distinct as to evoke greater differention in reddit posts?  Or is there just too much overlap, since they are both theme parks?"
   ]
  },
  {
   "cell_type": "code",
   "execution_count": 71,
   "id": "2fc9c41d",
   "metadata": {},
   "outputs": [
    {
     "data": {
      "image/png": "[encoded data removed]",
      "text/plain": [
       "<Figure size 432x288 with 2 Axes>"
      ]
     },
     "metadata": {
      "needs_background": "light"
     },
     "output_type": "display_data"
    }
   ],
   "source": [
    "# Model 4 predictions\n",
    "preds4 = gs4.predict(X_test)\n",
    "\n",
    "# Model 4 Confusion Matrix Values\n",
    "tn, fp, fn, tp = confusion_matrix(y_test, preds4).ravel()\n",
    "\n",
    "# View confusion matrix\n",
    "plot_confusion_matrix(gs4, X_test, y_test, cmap='Purples', values_format='d');"
   ]
  },
  {
   "cell_type": "code",
   "execution_count": 72,
   "id": "a59d9d7a",
   "metadata": {},
   "outputs": [
    {
     "data": {
      "text/plain": [
       "0.8152562574493445"
      ]
     },
     "execution_count": 72,
     "metadata": {},
     "output_type": "execute_result"
    }
   ],
   "source": [
    "# Specificity\n",
    "spec = tn / (tn + fp)\n",
    "spec"
   ]
  },
  {
   "cell_type": "markdown",
   "id": "bc46d9d2",
   "metadata": {},
   "source": [
    "We're most interested in accuracy and precision.  We don't want our branding lost to a competitor.  Ideally, the brands would be distinct, but since Disney and Universal parks are all theme parks, some overlap is inevitable."
   ]
  },
  {
   "cell_type": "code",
   "execution_count": 73,
   "id": "d7d2a2dc",
   "metadata": {},
   "outputs": [
    {
     "data": {
      "text/plain": [
       "0.8246606334841629"
      ]
     },
     "execution_count": 73,
     "metadata": {},
     "output_type": "execute_result"
    }
   ],
   "source": [
    "# Precision\n",
    "prec = tp / (tp + fp)\n",
    "prec"
   ]
  },
  {
   "cell_type": "code",
   "execution_count": 80,
   "id": "917e3c41",
   "metadata": {},
   "outputs": [
    {
     "data": {
      "text/plain": [
       "0.8413218219708246"
      ]
     },
     "execution_count": 80,
     "metadata": {},
     "output_type": "execute_result"
    }
   ],
   "source": [
    "# Accuracy\n",
    "acc = (tp + tn) / (tp + tn + fp + fn)\n",
    "acc"
   ]
  },
  {
   "cell_type": "markdown",
   "id": "4208e70e",
   "metadata": {},
   "source": [
    "This model has a precision score of .82 and 84.1% accuracy.  The accuracy scores are the same whether Grid Search is used or not.  However, both precision and specificity are slightly higher when Grid Search is not used.  Therefore, the multinomial Naive Bayes model without Grid Search earns the title of \"Best Model.\""
   ]
  },
  {
   "cell_type": "markdown",
   "id": "899f2385",
   "metadata": {},
   "source": [
    "Since there is a lot of overlap in what Disney and Universal offer guests, some overlap is inevitable.  Both parks share some of the same language, such as \"annual pass,\" \"park,\" \"world\" (Disney World, the Wizzarding World of Harry Potter, Jurassic World), some words will not distinguish the two.  Even \"magic\" can be problematic, since it applies to \"Magic Kingdom\" and Harry Potter.  Generally, \"magic\" is Disney's brand.  Park guests are greeted and sent off with the phrase, \"Have a magical day.\"  Universal Studios uses \"universal\" in branding.  Billboards featuring Harry Potter read, \"Courage is Universal.\"  Other billboards read, \"Adventure is Universal\" or other, similar phrases evoking bravery.\n",
    "\n",
    "Overall, the Naive Bayes model predicted the correct subreddit over 88% of the time on the test data and over 80% of the time on the training data.  Aside from the Logistic Regression model and the Null model, all models predicted the subreddit correctly over 80% of the time.  For models based on qualitative data from humans in the wild (i.e. not laboratory-controled and only marginally controled by a moderator), these scores are excellent.\n",
    "\n",
    "Nine of the top 10 words and phrases were completely different for Disney and Universal after stop words were removed.  The phrase the two subreddits shared was \"theme park.\"  This is actually a good thing, since both brands brand their parks as \"theme parks\" rather than \"amusement parks.\"\n",
    "\n",
    "Though it's not in the top 10 on either list, I'll check counts of \"magic\" in both subreddits."
   ]
  },
  {
   "cell_type": "code",
   "execution_count": 75,
   "id": "17816731",
   "metadata": {},
   "outputs": [],
   "source": [
    "df.to_csv('df_clean1.csv', index=True)\n",
    "df2.to_csv('df2_clean2.csv', index=True)"
   ]
  },
  {
   "cell_type": "markdown",
   "id": "2d06a6c2",
   "metadata": {},
   "source": [
    "# Conclusions and Recommendations"
   ]
  },
  {
   "cell_type": "markdown",
   "id": "bb0e59b9",
   "metadata": {},
   "source": [
    "The low occurance of \"magic\" in the Disney subreddit surprises me.  This probably should concern Disney Marketing, since magic is Disney's brand.  To maintain their brand, Disney might consider pivoting slightly, to \"worlds far away,\" \"imagination,\" or something similar.  Aside from Frozen, recent Disney movies have not included a lot of magic.  Mulan disguised herself as a boy.  Monsters Inc features monsters working.  Aside from being able to enter children's rooms through their closets, there's no magic involved.  Inside Out, the Good Dinosaur, Finding Nemo, Finding Dory, Zootopia, Coco, and Moana are all coming of age stories.  Even Mary Poppins Returns features magic, but ultimately is a comming of age story.  Aside from toys and cars coming alive, there's no magic in the Toy Story or Cars movies.\n",
    "\n",
    "Disney recently renamed all of their annual passes (and greatly increased the price on each of them).  Instead of bronze, silver, gold, and platinum passes, there are the pixie dust, pirate, sorcerer, and incredi-pass.  I'm guessing that the last one is promoting The Incredibles.  Renaming the passes to align with the magic theme (or a new pirates exhibit) signals that they're doubling down on their Magic branding.\n",
    "\n",
    "If Disney chooses to pivot towards a slightly different brand, then I recommend clarifying what that brand is, based on where they are and what new content is in the works.  One possibility is Imagination.  This would tie in well with EPCOT (which desperately needs clear branding) and Disney's Imagineering work group, which is considered the heart of Disney design, according to a Disney+ documentary.  \"Dream it\" or \"Dream it, be it\" could also work.\n",
    "\n",
    "At the heart of the question is how guests and potential guests view \"magic.\"  Is it passe?  Do they think of older films with evil witches and good fairies?  While I doubt evil witches and good fairies will die out completely, they are not highly represented in Disney's newer films.  Perhaps \"magical\" no longer represents Disney best.  Alternatively, perhaps Disney is seeking to redefine or expand the definition of Magic.  Further research is warranted, but I am not privvy to proprietary data.\n",
    "\n",
    "If I were a marketing data science cast member at Disney, I would recommend researching other unofficial Disney reddits and social media pages to examine the most frequently discussed topics and posted images.  Then I'd perform a meta-analysis on all that information to get an updated view of the Disney landscape in recent past, current, and potential customers' eyes.  What strikes them about Disney?  What draws them to Disney?  What buzzwords do they repeat most that are uniquely Disney?  Then I would compare these words and themes with words and themes on Universal reddits and other social media pages to ensure that Disney's brand is unique."
   ]
  },
  {
   "cell_type": "code",
   "execution_count": null,
   "id": "f8bd9b6d",
   "metadata": {},
   "outputs": [],
   "source": []
  }
 ],
 "metadata": {
  "kernelspec": {
   "display_name": "Python 3 (ipykernel)",
   "language": "python",
   "name": "python3"
  },
  "language_info": {
   "codemirror_mode": {
    "name": "ipython",
    "version": 3
   },
   "file_extension": ".py",
   "mimetype": "text/x-python",
   "name": "python",
   "nbconvert_exporter": "python",
   "pygments_lexer": "ipython3",
   "version": "3.8.11"
  }
 },
 "nbformat": 4,
 "nbformat_minor": 5
}
