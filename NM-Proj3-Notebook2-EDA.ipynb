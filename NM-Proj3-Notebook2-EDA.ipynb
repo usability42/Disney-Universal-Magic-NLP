{
 "cells": [
  {
   "cell_type": "markdown",
   "id": "86df3200",
   "metadata": {},
   "source": [
    "Nadia Morgen - Project 3, Notebook 2:  EDA"
   ]
  },
  {
   "cell_type": "markdown",
   "id": "a69d9435",
   "metadata": {},
   "source": [
    "# Notebook 2:  Exploratory Data Analysis"
   ]
  },
  {
   "cell_type": "code",
   "execution_count": 1,
   "id": "94744a6a",
   "metadata": {},
   "outputs": [],
   "source": [
    "import pandas as pd\n",
    "import numpy as np\n",
    "import matplotlib.pyplot as plt\n",
    "import nltk\n",
    "import seaborn as sns\n",
    "from nltk.corpus import stopwords\n",
    "from nltk.tokenize import word_tokenize\n",
    "from nltk import word_tokenize\n",
    "from nltk.stem import WordNetLemmatizer\n",
    "from sklearn.feature_extraction.text import CountVectorizer\n"
   ]
  },
  {
   "cell_type": "code",
   "execution_count": 21,
   "id": "71f4e6c8",
   "metadata": {},
   "outputs": [],
   "source": [
    "# Read in data\n",
    "df = pd.read_csv('data_finally_clean.csv')\n",
    "df2 = pd.read_csv('df2_clean.csv')"
   ]
  },
  {
   "cell_type": "code",
   "execution_count": 3,
   "id": "3fb49049",
   "metadata": {
    "scrolled": true
   },
   "outputs": [
    {
     "data": {
      "text/html": [
       "<div>\n",
       "<style scoped>\n",
       "    .dataframe tbody tr th:only-of-type {\n",
       "        vertical-align: middle;\n",
       "    }\n",
       "\n",
       "    .dataframe tbody tr th {\n",
       "        vertical-align: top;\n",
       "    }\n",
       "\n",
       "    .dataframe thead th {\n",
       "        text-align: right;\n",
       "    }\n",
       "</style>\n",
       "<table border=\"1\" class=\"dataframe\">\n",
       "  <thead>\n",
       "    <tr style=\"text-align: right;\">\n",
       "      <th></th>\n",
       "      <th>Unnamed: 0</th>\n",
       "      <th>Unnamed: 0.1</th>\n",
       "      <th>Unnamed: 0.1.1</th>\n",
       "      <th>title</th>\n",
       "      <th>selftext</th>\n",
       "      <th>created_utc</th>\n",
       "      <th>title_clean</th>\n",
       "      <th>selftext_clean</th>\n",
       "      <th>clean_lemon_tokens</th>\n",
       "      <th>cln_lmn_tok_title</th>\n",
       "      <th>disney_y</th>\n",
       "    </tr>\n",
       "  </thead>\n",
       "  <tbody>\n",
       "    <tr>\n",
       "      <th>0</th>\n",
       "      <td>0</td>\n",
       "      <td>0</td>\n",
       "      <td>0</td>\n",
       "      <td>anybody have this 2099 expiration issue with n...</td>\n",
       "      <td>NaN</td>\n",
       "      <td>1631369894</td>\n",
       "      <td>['[', \"'anybody\", \"'\", ',', \"'have\", \"'\", ',',...</td>\n",
       "      <td>['[', ']']</td>\n",
       "      <td>[]</td>\n",
       "      <td>['anybody', 'have', 'this', '2099', 'expiratio...</td>\n",
       "      <td>1</td>\n",
       "    </tr>\n",
       "    <tr>\n",
       "      <th>1</th>\n",
       "      <td>1</td>\n",
       "      <td>1</td>\n",
       "      <td>1</td>\n",
       "      <td>i went to wdw back in april, here are some pic...</td>\n",
       "      <td>NaN</td>\n",
       "      <td>1631367728</td>\n",
       "      <td>['[', \"'\", 'i', \"'\", ',', \"'went\", \"'\", ',', \"...</td>\n",
       "      <td>['[', ']']</td>\n",
       "      <td>[]</td>\n",
       "      <td>['i', 'went', 'to', 'back', 'in', 'april', ','...</td>\n",
       "      <td>1</td>\n",
       "    </tr>\n",
       "    <tr>\n",
       "      <th>2</th>\n",
       "      <td>2</td>\n",
       "      <td>2</td>\n",
       "      <td>2</td>\n",
       "      <td>full walkthrough of villain's grove at opening...</td>\n",
       "      <td>NaN</td>\n",
       "      <td>1631339851</td>\n",
       "      <td>['[', \"'full\", \"'\", ',', \"'walkthrough\", \"'\", ...</td>\n",
       "      <td>['[', ']']</td>\n",
       "      <td>[]</td>\n",
       "      <td>['full', 'walkthrough', 'of', 'villain', \"'s\",...</td>\n",
       "      <td>1</td>\n",
       "    </tr>\n",
       "    <tr>\n",
       "      <th>3</th>\n",
       "      <td>3</td>\n",
       "      <td>3</td>\n",
       "      <td>3</td>\n",
       "      <td>one of my favorite pieces of park merchandise ...</td>\n",
       "      <td>NaN</td>\n",
       "      <td>1631339788</td>\n",
       "      <td>['[', \"'one\", \"'\", ',', \"'of\", \"'\", ',', \"'my\"...</td>\n",
       "      <td>['[', ']']</td>\n",
       "      <td>[]</td>\n",
       "      <td>['one', 'of', 'my', 'favorite', 'piece', 'of',...</td>\n",
       "      <td>1</td>\n",
       "    </tr>\n",
       "    <tr>\n",
       "      <th>4</th>\n",
       "      <td>4</td>\n",
       "      <td>4</td>\n",
       "      <td>4</td>\n",
       "      <td>first time at avengers campus and rode incredi...</td>\n",
       "      <td>NaN</td>\n",
       "      <td>1631337412</td>\n",
       "      <td>['[', \"'first\", \"'\", ',', \"'time\", \"'\", ',', \"...</td>\n",
       "      <td>['[', ']']</td>\n",
       "      <td>[]</td>\n",
       "      <td>['first', 'time', 'at', 'avenger', 'campus', '...</td>\n",
       "      <td>1</td>\n",
       "    </tr>\n",
       "    <tr>\n",
       "      <th>...</th>\n",
       "      <td>...</td>\n",
       "      <td>...</td>\n",
       "      <td>...</td>\n",
       "      <td>...</td>\n",
       "      <td>...</td>\n",
       "      <td>...</td>\n",
       "      <td>...</td>\n",
       "      <td>...</td>\n",
       "      <td>...</td>\n",
       "      <td>...</td>\n",
       "      <td>...</td>\n",
       "    </tr>\n",
       "    <tr>\n",
       "      <th>10172</th>\n",
       "      <td>10172</td>\n",
       "      <td>10172</td>\n",
       "      <td>10172</td>\n",
       "      <td>ideas for family of visitor who is at the end ...</td>\n",
       "      <td>a very close relative of my wife will be visit...</td>\n",
       "      <td>1427773590</td>\n",
       "      <td>['[', \"'ideas\", \"'\", ',', \"'for\", \"'\", ',', \"'...</td>\n",
       "      <td>['[', \"'\", 'a', \"'\", ',', \"'very\", \"'\", ',', \"...</td>\n",
       "      <td>['a', 'very', 'close', 'relative', 'of', 'my',...</td>\n",
       "      <td>['idea', 'for', 'family', 'of', 'visitor', 'wh...</td>\n",
       "      <td>0</td>\n",
       "    </tr>\n",
       "    <tr>\n",
       "      <th>10173</th>\n",
       "      <td>10173</td>\n",
       "      <td>10173</td>\n",
       "      <td>10173</td>\n",
       "      <td>parking question</td>\n",
       "      <td>okay, so i just got a preferred pass for unive...</td>\n",
       "      <td>1427760214</td>\n",
       "      <td>['[', \"'parking\", \"'\", ',', \"'question\", \"'\", ...</td>\n",
       "      <td>['[', \"'okay\", \"'\", ',', \"'\", ',', \"'\", ',', \"...</td>\n",
       "      <td>['okay', ',', 'so', 'i', 'just', 'got', 'a', '...</td>\n",
       "      <td>['parking', 'question']</td>\n",
       "      <td>0</td>\n",
       "    </tr>\n",
       "    <tr>\n",
       "      <th>10174</th>\n",
       "      <td>10174</td>\n",
       "      <td>10174</td>\n",
       "      <td>10174</td>\n",
       "      <td>universal studios hollywood newbie</td>\n",
       "      <td>i've only ever been to ioa and universal studi...</td>\n",
       "      <td>1427579502</td>\n",
       "      <td>['[', \"'newbie\", \"'\", ']']</td>\n",
       "      <td>['[', \"'\", 'i', \"'\", ',', '``', \"'ve\", \"''\", '...</td>\n",
       "      <td>['i', \"'ve\", 'only', 'ever', 'been', 'to', 'io...</td>\n",
       "      <td>['newbie']</td>\n",
       "      <td>0</td>\n",
       "    </tr>\n",
       "    <tr>\n",
       "      <th>10175</th>\n",
       "      <td>10175</td>\n",
       "      <td>10175</td>\n",
       "      <td>10175</td>\n",
       "      <td>if you guys had to bring back 1 former attract...</td>\n",
       "      <td>i would bring back either jaws or nickelodeon ...</td>\n",
       "      <td>1427459882</td>\n",
       "      <td>['[', \"'if\", \"'\", ',', \"'you\", \"'\", ',', \"'guy...</td>\n",
       "      <td>['[', \"'\", 'i', \"'\", ',', \"'would\", \"'\", ',', ...</td>\n",
       "      <td>['i', 'would', 'bring', 'back', 'either', 'jaw...</td>\n",
       "      <td>['if', 'you', 'guy', 'had', 'to', 'bring', 'ba...</td>\n",
       "      <td>0</td>\n",
       "    </tr>\n",
       "    <tr>\n",
       "      <th>10176</th>\n",
       "      <td>10176</td>\n",
       "      <td>10176</td>\n",
       "      <td>10176</td>\n",
       "      <td>the awkward moment...</td>\n",
       "      <td>you can't even bribe someone with a free ticke...</td>\n",
       "      <td>1427153548</td>\n",
       "      <td>['[', \"'the\", \"'\", ',', \"'awkward\", \"'\", ',', ...</td>\n",
       "      <td>['[', \"'you\", \"'\", ',', \"'ca\", \"'\", ',', '``',...</td>\n",
       "      <td>['you', 'ca', \"n't\", 'even', 'bribe', 'someone...</td>\n",
       "      <td>['the', 'awkward', 'moment', '...']</td>\n",
       "      <td>0</td>\n",
       "    </tr>\n",
       "  </tbody>\n",
       "</table>\n",
       "<p>10177 rows × 11 columns</p>\n",
       "</div>"
      ],
      "text/plain": [
       "       Unnamed: 0  Unnamed: 0.1  Unnamed: 0.1.1  \\\n",
       "0               0             0               0   \n",
       "1               1             1               1   \n",
       "2               2             2               2   \n",
       "3               3             3               3   \n",
       "4               4             4               4   \n",
       "...           ...           ...             ...   \n",
       "10172       10172         10172           10172   \n",
       "10173       10173         10173           10173   \n",
       "10174       10174         10174           10174   \n",
       "10175       10175         10175           10175   \n",
       "10176       10176         10176           10176   \n",
       "\n",
       "                                                   title  \\\n",
       "0      anybody have this 2099 expiration issue with n...   \n",
       "1      i went to wdw back in april, here are some pic...   \n",
       "2      full walkthrough of villain's grove at opening...   \n",
       "3      one of my favorite pieces of park merchandise ...   \n",
       "4      first time at avengers campus and rode incredi...   \n",
       "...                                                  ...   \n",
       "10172  ideas for family of visitor who is at the end ...   \n",
       "10173                                   parking question   \n",
       "10174                 universal studios hollywood newbie   \n",
       "10175  if you guys had to bring back 1 former attract...   \n",
       "10176                              the awkward moment...   \n",
       "\n",
       "                                                selftext  created_utc  \\\n",
       "0                                                    NaN   1631369894   \n",
       "1                                                    NaN   1631367728   \n",
       "2                                                    NaN   1631339851   \n",
       "3                                                    NaN   1631339788   \n",
       "4                                                    NaN   1631337412   \n",
       "...                                                  ...          ...   \n",
       "10172  a very close relative of my wife will be visit...   1427773590   \n",
       "10173  okay, so i just got a preferred pass for unive...   1427760214   \n",
       "10174  i've only ever been to ioa and universal studi...   1427579502   \n",
       "10175  i would bring back either jaws or nickelodeon ...   1427459882   \n",
       "10176  you can't even bribe someone with a free ticke...   1427153548   \n",
       "\n",
       "                                             title_clean  \\\n",
       "0      ['[', \"'anybody\", \"'\", ',', \"'have\", \"'\", ',',...   \n",
       "1      ['[', \"'\", 'i', \"'\", ',', \"'went\", \"'\", ',', \"...   \n",
       "2      ['[', \"'full\", \"'\", ',', \"'walkthrough\", \"'\", ...   \n",
       "3      ['[', \"'one\", \"'\", ',', \"'of\", \"'\", ',', \"'my\"...   \n",
       "4      ['[', \"'first\", \"'\", ',', \"'time\", \"'\", ',', \"...   \n",
       "...                                                  ...   \n",
       "10172  ['[', \"'ideas\", \"'\", ',', \"'for\", \"'\", ',', \"'...   \n",
       "10173  ['[', \"'parking\", \"'\", ',', \"'question\", \"'\", ...   \n",
       "10174                         ['[', \"'newbie\", \"'\", ']']   \n",
       "10175  ['[', \"'if\", \"'\", ',', \"'you\", \"'\", ',', \"'guy...   \n",
       "10176  ['[', \"'the\", \"'\", ',', \"'awkward\", \"'\", ',', ...   \n",
       "\n",
       "                                          selftext_clean  \\\n",
       "0                                             ['[', ']']   \n",
       "1                                             ['[', ']']   \n",
       "2                                             ['[', ']']   \n",
       "3                                             ['[', ']']   \n",
       "4                                             ['[', ']']   \n",
       "...                                                  ...   \n",
       "10172  ['[', \"'\", 'a', \"'\", ',', \"'very\", \"'\", ',', \"...   \n",
       "10173  ['[', \"'okay\", \"'\", ',', \"'\", ',', \"'\", ',', \"...   \n",
       "10174  ['[', \"'\", 'i', \"'\", ',', '``', \"'ve\", \"''\", '...   \n",
       "10175  ['[', \"'\", 'i', \"'\", ',', \"'would\", \"'\", ',', ...   \n",
       "10176  ['[', \"'you\", \"'\", ',', \"'ca\", \"'\", ',', '``',...   \n",
       "\n",
       "                                      clean_lemon_tokens  \\\n",
       "0                                                     []   \n",
       "1                                                     []   \n",
       "2                                                     []   \n",
       "3                                                     []   \n",
       "4                                                     []   \n",
       "...                                                  ...   \n",
       "10172  ['a', 'very', 'close', 'relative', 'of', 'my',...   \n",
       "10173  ['okay', ',', 'so', 'i', 'just', 'got', 'a', '...   \n",
       "10174  ['i', \"'ve\", 'only', 'ever', 'been', 'to', 'io...   \n",
       "10175  ['i', 'would', 'bring', 'back', 'either', 'jaw...   \n",
       "10176  ['you', 'ca', \"n't\", 'even', 'bribe', 'someone...   \n",
       "\n",
       "                                       cln_lmn_tok_title  disney_y  \n",
       "0      ['anybody', 'have', 'this', '2099', 'expiratio...         1  \n",
       "1      ['i', 'went', 'to', 'back', 'in', 'april', ','...         1  \n",
       "2      ['full', 'walkthrough', 'of', 'villain', \"'s\",...         1  \n",
       "3      ['one', 'of', 'my', 'favorite', 'piece', 'of',...         1  \n",
       "4      ['first', 'time', 'at', 'avenger', 'campus', '...         1  \n",
       "...                                                  ...       ...  \n",
       "10172  ['idea', 'for', 'family', 'of', 'visitor', 'wh...         0  \n",
       "10173                            ['parking', 'question']         0  \n",
       "10174                                         ['newbie']         0  \n",
       "10175  ['if', 'you', 'guy', 'had', 'to', 'bring', 'ba...         0  \n",
       "10176                ['the', 'awkward', 'moment', '...']         0  \n",
       "\n",
       "[10177 rows x 11 columns]"
      ]
     },
     "execution_count": 3,
     "metadata": {},
     "output_type": "execute_result"
    }
   ],
   "source": [
    "# Verify it's all there\n",
    "df"
   ]
  },
  {
   "cell_type": "code",
   "execution_count": 4,
   "id": "4d994b2c",
   "metadata": {},
   "outputs": [],
   "source": [
    "# Drop duplicate dummy column\n",
    "df.drop(columns=['Unnamed: 0.1', 'Unnamed: 0', 'Unnamed: 0.1.1'], inplace=True)"
   ]
  },
  {
   "cell_type": "code",
   "execution_count": 36,
   "id": "1402fc67",
   "metadata": {},
   "outputs": [],
   "source": [
    "df['selftext_word_count'] = df['clean_lemon_tokens'].str.count(',') + 1\n",
    "df2['selftext_word_count'] = df2['clean_lemon_tokens'].str.count(',') + 1"
   ]
  },
  {
   "cell_type": "code",
   "execution_count": 37,
   "id": "ad72175c",
   "metadata": {},
   "outputs": [],
   "source": [
    "df['title_word_count'] = df['cln_lmn_tok_title'].str.count(',') + 1\n",
    "df2['title_word_count'] = df2['cln_lmn_tok_title'].str.count(',') + 1"
   ]
  },
  {
   "cell_type": "code",
   "execution_count": 7,
   "id": "1870fef3",
   "metadata": {
    "scrolled": true
   },
   "outputs": [
    {
     "data": {
      "text/html": [
       "<div>\n",
       "<style scoped>\n",
       "    .dataframe tbody tr th:only-of-type {\n",
       "        vertical-align: middle;\n",
       "    }\n",
       "\n",
       "    .dataframe tbody tr th {\n",
       "        vertical-align: top;\n",
       "    }\n",
       "\n",
       "    .dataframe thead th {\n",
       "        text-align: right;\n",
       "    }\n",
       "</style>\n",
       "<table border=\"1\" class=\"dataframe\">\n",
       "  <thead>\n",
       "    <tr style=\"text-align: right;\">\n",
       "      <th></th>\n",
       "      <th>title</th>\n",
       "      <th>selftext</th>\n",
       "      <th>created_utc</th>\n",
       "      <th>title_clean</th>\n",
       "      <th>selftext_clean</th>\n",
       "      <th>clean_lemon_tokens</th>\n",
       "      <th>cln_lmn_tok_title</th>\n",
       "      <th>disney_y</th>\n",
       "      <th>selftext_word_count</th>\n",
       "      <th>title_word_count</th>\n",
       "    </tr>\n",
       "  </thead>\n",
       "  <tbody>\n",
       "    <tr>\n",
       "      <th>0</th>\n",
       "      <td>anybody have this 2099 expiration issue with n...</td>\n",
       "      <td>NaN</td>\n",
       "      <td>1631369894</td>\n",
       "      <td>['[', \"'anybody\", \"'\", ',', \"'have\", \"'\", ',',...</td>\n",
       "      <td>['[', ']']</td>\n",
       "      <td>[]</td>\n",
       "      <td>['anybody', 'have', 'this', '2099', 'expiratio...</td>\n",
       "      <td>1</td>\n",
       "      <td>1</td>\n",
       "      <td>43</td>\n",
       "    </tr>\n",
       "    <tr>\n",
       "      <th>1</th>\n",
       "      <td>i went to wdw back in april, here are some pic...</td>\n",
       "      <td>NaN</td>\n",
       "      <td>1631367728</td>\n",
       "      <td>['[', \"'\", 'i', \"'\", ',', \"'went\", \"'\", ',', \"...</td>\n",
       "      <td>['[', ']']</td>\n",
       "      <td>[]</td>\n",
       "      <td>['i', 'went', 'to', 'back', 'in', 'april', ','...</td>\n",
       "      <td>1</td>\n",
       "      <td>1</td>\n",
       "      <td>17</td>\n",
       "    </tr>\n",
       "    <tr>\n",
       "      <th>2</th>\n",
       "      <td>full walkthrough of villain's grove at opening...</td>\n",
       "      <td>NaN</td>\n",
       "      <td>1631339851</td>\n",
       "      <td>['[', \"'full\", \"'\", ',', \"'walkthrough\", \"'\", ...</td>\n",
       "      <td>['[', ']']</td>\n",
       "      <td>[]</td>\n",
       "      <td>['full', 'walkthrough', 'of', 'villain', \"'s\",...</td>\n",
       "      <td>1</td>\n",
       "      <td>1</td>\n",
       "      <td>33</td>\n",
       "    </tr>\n",
       "    <tr>\n",
       "      <th>3</th>\n",
       "      <td>one of my favorite pieces of park merchandise ...</td>\n",
       "      <td>NaN</td>\n",
       "      <td>1631339788</td>\n",
       "      <td>['[', \"'one\", \"'\", ',', \"'of\", \"'\", ',', \"'my\"...</td>\n",
       "      <td>['[', ']']</td>\n",
       "      <td>[]</td>\n",
       "      <td>['one', 'of', 'my', 'favorite', 'piece', 'of',...</td>\n",
       "      <td>1</td>\n",
       "      <td>1</td>\n",
       "      <td>40</td>\n",
       "    </tr>\n",
       "    <tr>\n",
       "      <th>4</th>\n",
       "      <td>first time at avengers campus and rode incredi...</td>\n",
       "      <td>NaN</td>\n",
       "      <td>1631337412</td>\n",
       "      <td>['[', \"'first\", \"'\", ',', \"'time\", \"'\", ',', \"...</td>\n",
       "      <td>['[', ']']</td>\n",
       "      <td>[]</td>\n",
       "      <td>['first', 'time', 'at', 'avenger', 'campus', '...</td>\n",
       "      <td>1</td>\n",
       "      <td>1</td>\n",
       "      <td>13</td>\n",
       "    </tr>\n",
       "    <tr>\n",
       "      <th>...</th>\n",
       "      <td>...</td>\n",
       "      <td>...</td>\n",
       "      <td>...</td>\n",
       "      <td>...</td>\n",
       "      <td>...</td>\n",
       "      <td>...</td>\n",
       "      <td>...</td>\n",
       "      <td>...</td>\n",
       "      <td>...</td>\n",
       "      <td>...</td>\n",
       "    </tr>\n",
       "    <tr>\n",
       "      <th>10172</th>\n",
       "      <td>ideas for family of visitor who is at the end ...</td>\n",
       "      <td>a very close relative of my wife will be visit...</td>\n",
       "      <td>1427773590</td>\n",
       "      <td>['[', \"'ideas\", \"'\", ',', \"'for\", \"'\", ',', \"'...</td>\n",
       "      <td>['[', \"'\", 'a', \"'\", ',', \"'very\", \"'\", ',', \"...</td>\n",
       "      <td>['a', 'very', 'close', 'relative', 'of', 'my',...</td>\n",
       "      <td>['idea', 'for', 'family', 'of', 'visitor', 'wh...</td>\n",
       "      <td>0</td>\n",
       "      <td>189</td>\n",
       "      <td>12</td>\n",
       "    </tr>\n",
       "    <tr>\n",
       "      <th>10173</th>\n",
       "      <td>parking question</td>\n",
       "      <td>okay, so i just got a preferred pass for unive...</td>\n",
       "      <td>1427760214</td>\n",
       "      <td>['[', \"'parking\", \"'\", ',', \"'question\", \"'\", ...</td>\n",
       "      <td>['[', \"'okay\", \"'\", ',', \"'\", ',', \"'\", ',', \"...</td>\n",
       "      <td>['okay', ',', 'so', 'i', 'just', 'got', 'a', '...</td>\n",
       "      <td>['parking', 'question']</td>\n",
       "      <td>0</td>\n",
       "      <td>204</td>\n",
       "      <td>2</td>\n",
       "    </tr>\n",
       "    <tr>\n",
       "      <th>10174</th>\n",
       "      <td>universal studios hollywood newbie</td>\n",
       "      <td>i've only ever been to ioa and universal studi...</td>\n",
       "      <td>1427579502</td>\n",
       "      <td>['[', \"'newbie\", \"'\", ']']</td>\n",
       "      <td>['[', \"'\", 'i', \"'\", ',', '``', \"'ve\", \"''\", '...</td>\n",
       "      <td>['i', \"'ve\", 'only', 'ever', 'been', 'to', 'io...</td>\n",
       "      <td>['newbie']</td>\n",
       "      <td>0</td>\n",
       "      <td>54</td>\n",
       "      <td>1</td>\n",
       "    </tr>\n",
       "    <tr>\n",
       "      <th>10175</th>\n",
       "      <td>if you guys had to bring back 1 former attract...</td>\n",
       "      <td>i would bring back either jaws or nickelodeon ...</td>\n",
       "      <td>1427459882</td>\n",
       "      <td>['[', \"'if\", \"'\", ',', \"'you\", \"'\", ',', \"'guy...</td>\n",
       "      <td>['[', \"'\", 'i', \"'\", ',', \"'would\", \"'\", ',', ...</td>\n",
       "      <td>['i', 'would', 'bring', 'back', 'either', 'jaw...</td>\n",
       "      <td>['if', 'you', 'guy', 'had', 'to', 'bring', 'ba...</td>\n",
       "      <td>0</td>\n",
       "      <td>10</td>\n",
       "      <td>21</td>\n",
       "    </tr>\n",
       "    <tr>\n",
       "      <th>10176</th>\n",
       "      <td>the awkward moment...</td>\n",
       "      <td>you can't even bribe someone with a free ticke...</td>\n",
       "      <td>1427153548</td>\n",
       "      <td>['[', \"'the\", \"'\", ',', \"'awkward\", \"'\", ',', ...</td>\n",
       "      <td>['[', \"'you\", \"'\", ',', \"'ca\", \"'\", ',', '``',...</td>\n",
       "      <td>['you', 'ca', \"n't\", 'even', 'bribe', 'someone...</td>\n",
       "      <td>['the', 'awkward', 'moment', '...']</td>\n",
       "      <td>0</td>\n",
       "      <td>50</td>\n",
       "      <td>4</td>\n",
       "    </tr>\n",
       "  </tbody>\n",
       "</table>\n",
       "<p>10177 rows × 10 columns</p>\n",
       "</div>"
      ],
      "text/plain": [
       "                                                   title  \\\n",
       "0      anybody have this 2099 expiration issue with n...   \n",
       "1      i went to wdw back in april, here are some pic...   \n",
       "2      full walkthrough of villain's grove at opening...   \n",
       "3      one of my favorite pieces of park merchandise ...   \n",
       "4      first time at avengers campus and rode incredi...   \n",
       "...                                                  ...   \n",
       "10172  ideas for family of visitor who is at the end ...   \n",
       "10173                                   parking question   \n",
       "10174                 universal studios hollywood newbie   \n",
       "10175  if you guys had to bring back 1 former attract...   \n",
       "10176                              the awkward moment...   \n",
       "\n",
       "                                                selftext  created_utc  \\\n",
       "0                                                    NaN   1631369894   \n",
       "1                                                    NaN   1631367728   \n",
       "2                                                    NaN   1631339851   \n",
       "3                                                    NaN   1631339788   \n",
       "4                                                    NaN   1631337412   \n",
       "...                                                  ...          ...   \n",
       "10172  a very close relative of my wife will be visit...   1427773590   \n",
       "10173  okay, so i just got a preferred pass for unive...   1427760214   \n",
       "10174  i've only ever been to ioa and universal studi...   1427579502   \n",
       "10175  i would bring back either jaws or nickelodeon ...   1427459882   \n",
       "10176  you can't even bribe someone with a free ticke...   1427153548   \n",
       "\n",
       "                                             title_clean  \\\n",
       "0      ['[', \"'anybody\", \"'\", ',', \"'have\", \"'\", ',',...   \n",
       "1      ['[', \"'\", 'i', \"'\", ',', \"'went\", \"'\", ',', \"...   \n",
       "2      ['[', \"'full\", \"'\", ',', \"'walkthrough\", \"'\", ...   \n",
       "3      ['[', \"'one\", \"'\", ',', \"'of\", \"'\", ',', \"'my\"...   \n",
       "4      ['[', \"'first\", \"'\", ',', \"'time\", \"'\", ',', \"...   \n",
       "...                                                  ...   \n",
       "10172  ['[', \"'ideas\", \"'\", ',', \"'for\", \"'\", ',', \"'...   \n",
       "10173  ['[', \"'parking\", \"'\", ',', \"'question\", \"'\", ...   \n",
       "10174                         ['[', \"'newbie\", \"'\", ']']   \n",
       "10175  ['[', \"'if\", \"'\", ',', \"'you\", \"'\", ',', \"'guy...   \n",
       "10176  ['[', \"'the\", \"'\", ',', \"'awkward\", \"'\", ',', ...   \n",
       "\n",
       "                                          selftext_clean  \\\n",
       "0                                             ['[', ']']   \n",
       "1                                             ['[', ']']   \n",
       "2                                             ['[', ']']   \n",
       "3                                             ['[', ']']   \n",
       "4                                             ['[', ']']   \n",
       "...                                                  ...   \n",
       "10172  ['[', \"'\", 'a', \"'\", ',', \"'very\", \"'\", ',', \"...   \n",
       "10173  ['[', \"'okay\", \"'\", ',', \"'\", ',', \"'\", ',', \"...   \n",
       "10174  ['[', \"'\", 'i', \"'\", ',', '``', \"'ve\", \"''\", '...   \n",
       "10175  ['[', \"'\", 'i', \"'\", ',', \"'would\", \"'\", ',', ...   \n",
       "10176  ['[', \"'you\", \"'\", ',', \"'ca\", \"'\", ',', '``',...   \n",
       "\n",
       "                                      clean_lemon_tokens  \\\n",
       "0                                                     []   \n",
       "1                                                     []   \n",
       "2                                                     []   \n",
       "3                                                     []   \n",
       "4                                                     []   \n",
       "...                                                  ...   \n",
       "10172  ['a', 'very', 'close', 'relative', 'of', 'my',...   \n",
       "10173  ['okay', ',', 'so', 'i', 'just', 'got', 'a', '...   \n",
       "10174  ['i', \"'ve\", 'only', 'ever', 'been', 'to', 'io...   \n",
       "10175  ['i', 'would', 'bring', 'back', 'either', 'jaw...   \n",
       "10176  ['you', 'ca', \"n't\", 'even', 'bribe', 'someone...   \n",
       "\n",
       "                                       cln_lmn_tok_title  disney_y  \\\n",
       "0      ['anybody', 'have', 'this', '2099', 'expiratio...         1   \n",
       "1      ['i', 'went', 'to', 'back', 'in', 'april', ','...         1   \n",
       "2      ['full', 'walkthrough', 'of', 'villain', \"'s\",...         1   \n",
       "3      ['one', 'of', 'my', 'favorite', 'piece', 'of',...         1   \n",
       "4      ['first', 'time', 'at', 'avenger', 'campus', '...         1   \n",
       "...                                                  ...       ...   \n",
       "10172  ['idea', 'for', 'family', 'of', 'visitor', 'wh...         0   \n",
       "10173                            ['parking', 'question']         0   \n",
       "10174                                         ['newbie']         0   \n",
       "10175  ['if', 'you', 'guy', 'had', 'to', 'bring', 'ba...         0   \n",
       "10176                ['the', 'awkward', 'moment', '...']         0   \n",
       "\n",
       "       selftext_word_count  title_word_count  \n",
       "0                        1                43  \n",
       "1                        1                17  \n",
       "2                        1                33  \n",
       "3                        1                40  \n",
       "4                        1                13  \n",
       "...                    ...               ...  \n",
       "10172                  189                12  \n",
       "10173                  204                 2  \n",
       "10174                   54                 1  \n",
       "10175                   10                21  \n",
       "10176                   50                 4  \n",
       "\n",
       "[10177 rows x 10 columns]"
      ]
     },
     "execution_count": 7,
     "metadata": {},
     "output_type": "execute_result"
    }
   ],
   "source": [
    "# Verify it worked correctly\n",
    "df"
   ]
  },
  {
   "cell_type": "code",
   "execution_count": 32,
   "id": "6fee9625",
   "metadata": {},
   "outputs": [
    {
     "data": {
      "image/png": "[encoded data removed]",
      "text/plain": [
       "<Figure size 576x576 with 2 Axes>"
      ]
     },
     "metadata": {
      "needs_background": "light"
     },
     "output_type": "display_data"
    }
   ],
   "source": [
    "# Plot word count by subreddit, using cleaned, lemmatized selftext (clean_lemon_tokens)\n",
    "\n",
    "fig, ax = plt.subplots(1, 2, figsize=(8, 8))\n",
    "Disney = df.loc[df['disney_y'] == 1]\n",
    "Universal = df.loc[df['disney_y'] == 0]\n",
    "\n",
    "sns.histplot(Disney[['selftext_word_count']], ax=ax[0])\n",
    "sns.histplot(Universal[['selftext_word_count']], ax=ax[1])\n",
    "\n",
    "fig.legend(labels=['Disney','Universal'])\n",
    "plt.show()\n",
    "\n",
    "fig.suptitle('Word Count Distributions', fontsize=20);"
   ]
  },
  {
   "cell_type": "markdown",
   "id": "6c79c1a4",
   "metadata": {},
   "source": [
    "Clearly, there is a lot of missing selftext data that didn't appear in my df.isna().sum() inquiry when I cleaned the data.  Time to iterate and assess the damage."
   ]
  },
  {
   "cell_type": "code",
   "execution_count": 11,
   "id": "37edd18b",
   "metadata": {},
   "outputs": [
    {
     "data": {
      "text/html": [
       "<div>\n",
       "<style scoped>\n",
       "    .dataframe tbody tr th:only-of-type {\n",
       "        vertical-align: middle;\n",
       "    }\n",
       "\n",
       "    .dataframe tbody tr th {\n",
       "        vertical-align: top;\n",
       "    }\n",
       "\n",
       "    .dataframe thead th {\n",
       "        text-align: right;\n",
       "    }\n",
       "</style>\n",
       "<table border=\"1\" class=\"dataframe\">\n",
       "  <thead>\n",
       "    <tr style=\"text-align: right;\">\n",
       "      <th></th>\n",
       "      <th>title</th>\n",
       "      <th>selftext</th>\n",
       "      <th>created_utc</th>\n",
       "      <th>title_clean</th>\n",
       "      <th>selftext_clean</th>\n",
       "      <th>clean_lemon_tokens</th>\n",
       "      <th>cln_lmn_tok_title</th>\n",
       "      <th>selftext_word_count</th>\n",
       "      <th>title_word_count</th>\n",
       "    </tr>\n",
       "    <tr>\n",
       "      <th>disney_y</th>\n",
       "      <th></th>\n",
       "      <th></th>\n",
       "      <th></th>\n",
       "      <th></th>\n",
       "      <th></th>\n",
       "      <th></th>\n",
       "      <th></th>\n",
       "      <th></th>\n",
       "      <th></th>\n",
       "    </tr>\n",
       "  </thead>\n",
       "  <tbody>\n",
       "    <tr>\n",
       "      <th>0</th>\n",
       "      <td>0</td>\n",
       "      <td>-2586</td>\n",
       "      <td>0</td>\n",
       "      <td>0</td>\n",
       "      <td>0</td>\n",
       "      <td>0</td>\n",
       "      <td>0</td>\n",
       "      <td>0</td>\n",
       "      <td>0</td>\n",
       "    </tr>\n",
       "    <tr>\n",
       "      <th>1</th>\n",
       "      <td>0</td>\n",
       "      <td>-3680</td>\n",
       "      <td>0</td>\n",
       "      <td>0</td>\n",
       "      <td>0</td>\n",
       "      <td>0</td>\n",
       "      <td>0</td>\n",
       "      <td>0</td>\n",
       "      <td>0</td>\n",
       "    </tr>\n",
       "  </tbody>\n",
       "</table>\n",
       "</div>"
      ],
      "text/plain": [
       "          title  selftext  created_utc  title_clean  selftext_clean  \\\n",
       "disney_y                                                              \n",
       "0             0     -2586            0            0               0   \n",
       "1             0     -3680            0            0               0   \n",
       "\n",
       "          clean_lemon_tokens  cln_lmn_tok_title  selftext_word_count  \\\n",
       "disney_y                                                               \n",
       "0                          0                  0                    0   \n",
       "1                          0                  0                    0   \n",
       "\n",
       "          title_word_count  \n",
       "disney_y                    \n",
       "0                        0  \n",
       "1                        0  "
      ]
     },
     "execution_count": 11,
     "metadata": {},
     "output_type": "execute_result"
    }
   ],
   "source": [
    "# Assess issue with missing data\n",
    "\n",
    "g = df.groupby('disney_y')\n",
    "-g.count().rsub(g.size(), axis=0)\n",
    "\n",
    "# https://stackoverflow.com/questions/53947196/groupby-class-and-count-missing-values-in-features"
   ]
  },
  {
   "cell_type": "markdown",
   "id": "d0482282",
   "metadata": {},
   "source": [
    "The results indicate that there are likely a lot of images.  Unfortunately, there are significantly more images for Disney than for Universal.  Due to time constraints, I'll drop the missing values when I analyze selftext, but not when I analyze titles.  In the new dataframe (df6), Disney will have 1,413 rows and Universal will have 2,498.  This is not ideal, but it's the data I was able to get in the time allocated and given the random api barriers I faced.\n",
    "\n",
    "I cleaned up the data futher in Notebook 1 and created df2; I deleted all rows with selftext = NaN."
   ]
  },
  {
   "cell_type": "code",
   "execution_count": 33,
   "id": "6fd8c889",
   "metadata": {},
   "outputs": [
    {
     "data": {
      "text/plain": [
       "(10177, 13)"
      ]
     },
     "execution_count": 33,
     "metadata": {},
     "output_type": "execute_result"
    }
   ],
   "source": [
    "df.shape"
   ]
  },
  {
   "cell_type": "code",
   "execution_count": 34,
   "id": "c1d6f827",
   "metadata": {
    "scrolled": true
   },
   "outputs": [
    {
     "data": {
      "text/plain": [
       "(3911, 10)"
      ]
     },
     "execution_count": 34,
     "metadata": {},
     "output_type": "execute_result"
    }
   ],
   "source": [
    "df2.shape"
   ]
  },
  {
   "cell_type": "code",
   "execution_count": 15,
   "id": "e25a4edf",
   "metadata": {},
   "outputs": [
    {
     "data": {
      "text/html": [
       "<div>\n",
       "<style scoped>\n",
       "    .dataframe tbody tr th:only-of-type {\n",
       "        vertical-align: middle;\n",
       "    }\n",
       "\n",
       "    .dataframe tbody tr th {\n",
       "        vertical-align: top;\n",
       "    }\n",
       "\n",
       "    .dataframe thead th {\n",
       "        text-align: right;\n",
       "    }\n",
       "</style>\n",
       "<table border=\"1\" class=\"dataframe\">\n",
       "  <thead>\n",
       "    <tr style=\"text-align: right;\">\n",
       "      <th></th>\n",
       "      <th>created_utc</th>\n",
       "      <th>selftext_word_count</th>\n",
       "      <th>title_word_count</th>\n",
       "    </tr>\n",
       "    <tr>\n",
       "      <th>disney_y</th>\n",
       "      <th></th>\n",
       "      <th></th>\n",
       "      <th></th>\n",
       "    </tr>\n",
       "  </thead>\n",
       "  <tbody>\n",
       "    <tr>\n",
       "      <th>0</th>\n",
       "      <td>7785417136696</td>\n",
       "      <td>328730</td>\n",
       "      <td>55870</td>\n",
       "    </tr>\n",
       "    <tr>\n",
       "      <th>1</th>\n",
       "      <td>8146984794481</td>\n",
       "      <td>110807</td>\n",
       "      <td>61829</td>\n",
       "    </tr>\n",
       "  </tbody>\n",
       "</table>\n",
       "</div>"
      ],
      "text/plain": [
       "            created_utc  selftext_word_count  title_word_count\n",
       "disney_y                                                      \n",
       "0         7785417136696               328730             55870\n",
       "1         8146984794481               110807             61829"
      ]
     },
     "execution_count": 15,
     "metadata": {},
     "output_type": "execute_result"
    }
   ],
   "source": [
    "df.groupby('disney_y').sum()"
   ]
  },
  {
   "cell_type": "code",
   "execution_count": 16,
   "id": "23fcb747",
   "metadata": {
    "scrolled": true
   },
   "outputs": [
    {
     "data": {
      "text/html": [
       "<div>\n",
       "<style scoped>\n",
       "    .dataframe tbody tr th:only-of-type {\n",
       "        vertical-align: middle;\n",
       "    }\n",
       "\n",
       "    .dataframe tbody tr th {\n",
       "        vertical-align: top;\n",
       "    }\n",
       "\n",
       "    .dataframe thead th {\n",
       "        text-align: right;\n",
       "    }\n",
       "</style>\n",
       "<table border=\"1\" class=\"dataframe\">\n",
       "  <thead>\n",
       "    <tr style=\"text-align: right;\">\n",
       "      <th></th>\n",
       "      <th>created_utc</th>\n",
       "      <th>selftext_word_count</th>\n",
       "      <th>title_word_count</th>\n",
       "    </tr>\n",
       "    <tr>\n",
       "      <th>disney_y</th>\n",
       "      <th></th>\n",
       "      <th></th>\n",
       "      <th></th>\n",
       "    </tr>\n",
       "  </thead>\n",
       "  <tbody>\n",
       "    <tr>\n",
       "      <th>0</th>\n",
       "      <td>1.531357e+09</td>\n",
       "      <td>64.659717</td>\n",
       "      <td>10.989378</td>\n",
       "    </tr>\n",
       "    <tr>\n",
       "      <th>1</th>\n",
       "      <td>1.599644e+09</td>\n",
       "      <td>21.756725</td>\n",
       "      <td>12.139996</td>\n",
       "    </tr>\n",
       "  </tbody>\n",
       "</table>\n",
       "</div>"
      ],
      "text/plain": [
       "           created_utc  selftext_word_count  title_word_count\n",
       "disney_y                                                     \n",
       "0         1.531357e+09            64.659717         10.989378\n",
       "1         1.599644e+09            21.756725         12.139996"
      ]
     },
     "execution_count": 16,
     "metadata": {},
     "output_type": "execute_result"
    }
   ],
   "source": [
    "title_word_count = df.groupby(['disney_y'])\n",
    "title_word_count.mean()"
   ]
  },
  {
   "cell_type": "code",
   "execution_count": 17,
   "id": "1aa483fe",
   "metadata": {},
   "outputs": [
    {
     "data": {
      "text/html": [
       "<div>\n",
       "<style scoped>\n",
       "    .dataframe tbody tr th:only-of-type {\n",
       "        vertical-align: middle;\n",
       "    }\n",
       "\n",
       "    .dataframe tbody tr th {\n",
       "        vertical-align: top;\n",
       "    }\n",
       "\n",
       "    .dataframe thead th {\n",
       "        text-align: right;\n",
       "    }\n",
       "</style>\n",
       "<table border=\"1\" class=\"dataframe\">\n",
       "  <thead>\n",
       "    <tr style=\"text-align: right;\">\n",
       "      <th></th>\n",
       "      <th>created_utc</th>\n",
       "      <th>selftext_word_count</th>\n",
       "      <th>title_word_count</th>\n",
       "    </tr>\n",
       "    <tr>\n",
       "      <th>disney_y</th>\n",
       "      <th></th>\n",
       "      <th></th>\n",
       "      <th></th>\n",
       "    </tr>\n",
       "  </thead>\n",
       "  <tbody>\n",
       "    <tr>\n",
       "      <th>0</th>\n",
       "      <td>1.533376e+09</td>\n",
       "      <td>1.0</td>\n",
       "      <td>9.0</td>\n",
       "    </tr>\n",
       "    <tr>\n",
       "      <th>1</th>\n",
       "      <td>1.600349e+09</td>\n",
       "      <td>1.0</td>\n",
       "      <td>9.0</td>\n",
       "    </tr>\n",
       "  </tbody>\n",
       "</table>\n",
       "</div>"
      ],
      "text/plain": [
       "           created_utc  selftext_word_count  title_word_count\n",
       "disney_y                                                     \n",
       "0         1.533376e+09                  1.0               9.0\n",
       "1         1.600349e+09                  1.0               9.0"
      ]
     },
     "execution_count": 17,
     "metadata": {},
     "output_type": "execute_result"
    }
   ],
   "source": [
    "title_word_count = df.groupby(['disney_y'])\n",
    "title_word_count.median()"
   ]
  },
  {
   "cell_type": "code",
   "execution_count": 23,
   "id": "8e450a8d",
   "metadata": {
    "scrolled": true
   },
   "outputs": [
    {
     "data": {
      "text/html": [
       "<div>\n",
       "<style scoped>\n",
       "    .dataframe tbody tr th:only-of-type {\n",
       "        vertical-align: middle;\n",
       "    }\n",
       "\n",
       "    .dataframe tbody tr th {\n",
       "        vertical-align: top;\n",
       "    }\n",
       "\n",
       "    .dataframe thead th {\n",
       "        text-align: right;\n",
       "    }\n",
       "</style>\n",
       "<table border=\"1\" class=\"dataframe\">\n",
       "  <thead>\n",
       "    <tr style=\"text-align: right;\">\n",
       "      <th></th>\n",
       "      <th>Unnamed: 0</th>\n",
       "      <th>Unnamed: 0.1</th>\n",
       "      <th>created_utc</th>\n",
       "    </tr>\n",
       "    <tr>\n",
       "      <th>disney_y</th>\n",
       "      <th></th>\n",
       "      <th></th>\n",
       "      <th></th>\n",
       "    </tr>\n",
       "  </thead>\n",
       "  <tbody>\n",
       "    <tr>\n",
       "      <th>0</th>\n",
       "      <td>7980.224980</td>\n",
       "      <td>7980.224980</td>\n",
       "      <td>1.516730e+09</td>\n",
       "    </tr>\n",
       "    <tr>\n",
       "      <th>1</th>\n",
       "      <td>2347.039632</td>\n",
       "      <td>2347.039632</td>\n",
       "      <td>1.602254e+09</td>\n",
       "    </tr>\n",
       "  </tbody>\n",
       "</table>\n",
       "</div>"
      ],
      "text/plain": [
       "           Unnamed: 0  Unnamed: 0.1   created_utc\n",
       "disney_y                                         \n",
       "0         7980.224980   7980.224980  1.516730e+09\n",
       "1         2347.039632   2347.039632  1.602254e+09"
      ]
     },
     "execution_count": 23,
     "metadata": {},
     "output_type": "execute_result"
    }
   ],
   "source": [
    "selftext_word_count = df2.groupby(['disney_y'])\n",
    "selftext_word_count.mean()\n"
   ]
  },
  {
   "cell_type": "code",
   "execution_count": 24,
   "id": "42ac13ef",
   "metadata": {},
   "outputs": [
    {
     "data": {
      "text/html": [
       "<div>\n",
       "<style scoped>\n",
       "    .dataframe tbody tr th:only-of-type {\n",
       "        vertical-align: middle;\n",
       "    }\n",
       "\n",
       "    .dataframe tbody tr th {\n",
       "        vertical-align: top;\n",
       "    }\n",
       "\n",
       "    .dataframe thead th {\n",
       "        text-align: right;\n",
       "    }\n",
       "</style>\n",
       "<table border=\"1\" class=\"dataframe\">\n",
       "  <thead>\n",
       "    <tr style=\"text-align: right;\">\n",
       "      <th></th>\n",
       "      <th>Unnamed: 0</th>\n",
       "      <th>Unnamed: 0.1</th>\n",
       "      <th>created_utc</th>\n",
       "    </tr>\n",
       "    <tr>\n",
       "      <th>disney_y</th>\n",
       "      <th></th>\n",
       "      <th></th>\n",
       "      <th></th>\n",
       "    </tr>\n",
       "  </thead>\n",
       "  <tbody>\n",
       "    <tr>\n",
       "      <th>0</th>\n",
       "      <td>8260.5</td>\n",
       "      <td>8260.5</td>\n",
       "      <td>1.501443e+09</td>\n",
       "    </tr>\n",
       "    <tr>\n",
       "      <th>1</th>\n",
       "      <td>2209.0</td>\n",
       "      <td>2209.0</td>\n",
       "      <td>1.605283e+09</td>\n",
       "    </tr>\n",
       "  </tbody>\n",
       "</table>\n",
       "</div>"
      ],
      "text/plain": [
       "          Unnamed: 0  Unnamed: 0.1   created_utc\n",
       "disney_y                                        \n",
       "0             8260.5        8260.5  1.501443e+09\n",
       "1             2209.0        2209.0  1.605283e+09"
      ]
     },
     "execution_count": 24,
     "metadata": {},
     "output_type": "execute_result"
    }
   ],
   "source": [
    "selftext_word_count = df2.groupby(['disney_y'])\n",
    "selftext_word_count.median()"
   ]
  },
  {
   "cell_type": "markdown",
   "id": "6a28f999",
   "metadata": {},
   "source": [
    "Even after dropping the rows with missing selftext, universal's selftext word count is nearly 3 times higher than Disney's, even though Universal only has twice as many posts.  My guess is that people post more images on the disneyparks subreddit than on the universalstudios subreddit.\n",
    "\n",
    "That said, on average, disneyparks redditers post longer titles.  This might be because they post more images.  Alternatively, disneyparks redditers might have fewer people familiar with reddit, so they don't use the selftext field as often.  This could be something to research further (with data I don't have).  However, the median title length for subreditters in both groups was the same.  This indicates that enough long-winded title writers pulled up disneyparks' mean.\n",
    "\n",
    "* Note that this is the \"cleaned subtext\" word count."
   ]
  },
  {
   "cell_type": "code",
   "execution_count": 38,
   "id": "54d7e709",
   "metadata": {},
   "outputs": [
    {
     "data": {
      "image/png": "[encoded data removed]",
      "text/plain": [
       "<Figure size 1152x648 with 2 Axes>"
      ]
     },
     "metadata": {
      "needs_background": "light"
     },
     "output_type": "display_data"
    }
   ],
   "source": [
    "# Replotting word count after dropping missing rows\n",
    "# Plot word count by subreddit\n",
    "\n",
    "fig, ax = plt.subplots(1, 2, figsize=(16, 9))\n",
    "Disney = df2.loc[df2['disney_y'] == 1]\n",
    "Universal = df2.loc[df2['disney_y'] == 0]\n",
    "\n",
    "sns.histplot(Disney[['selftext_word_count']], ax=ax[0])\n",
    "sns.histplot(Universal[['selftext_word_count']], ax=ax[1])\n",
    "\n",
    "fig.legend(labels=['Disney','Universal'])\n",
    "plt.show()\n",
    "\n",
    "fig.suptitle('Word Count Distributions', fontsize=20);"
   ]
  },
  {
   "cell_type": "markdown",
   "id": "2a389637",
   "metadata": {},
   "source": [
    "Since Universal has over 1,000 more observations than Disney, I cannot comment on the raw frequencies here.  But I can comment on the distributions.  Both have hundreds of 1 or 2 word selftexts.  As indicated by the difference in means, there is more right skew on the universalstudios plot than on the disneyparks plot.  This could help the nlp modeling tools differentiate between the two subreddits."
   ]
  },
  {
   "cell_type": "code",
   "execution_count": 39,
   "id": "e4434d61",
   "metadata": {},
   "outputs": [
    {
     "data": {
      "image/png": "[encoded data removed]",
      "text/plain": [
       "<Figure size 1152x648 with 2 Axes>"
      ]
     },
     "metadata": {
      "needs_background": "light"
     },
     "output_type": "display_data"
    }
   ],
   "source": [
    "# Title word count by subreddit - using title_wordcount (which is cleaned, tokenized, and lemmatized)\n",
    "\n",
    "fig, ax = plt.subplots(1, 2, figsize=(16, 9))\n",
    "Disney = df.loc[df['disney_y'] == 1]\n",
    "Universal = df.loc[df['disney_y'] == 0]\n",
    "\n",
    "sns.histplot(Disney[['title_word_count']], ax=ax[0])\n",
    "sns.histplot(Universal[['title_word_count']], ax=ax[1])\n",
    "\n",
    "fig.legend(labels=['Disney','Universal'])\n",
    "plt.show()\n",
    "\n",
    "fig.suptitle('Word Count Distributions', fontsize=20);"
   ]
  },
  {
   "cell_type": "markdown",
   "id": "0ea2ccdd",
   "metadata": {},
   "source": [
    "It's important to note that the y-axis for Disney ends around 650, while the y-axis for Universal ends around 400.  "
   ]
  },
  {
   "cell_type": "code",
   "execution_count": null,
   "id": "1a774b08",
   "metadata": {},
   "outputs": [],
   "source": [
    "cv = CountVectorizer()"
   ]
  },
  {
   "cell_type": "code",
   "execution_count": 41,
   "id": "964afdfd",
   "metadata": {
    "scrolled": true
   },
   "outputs": [],
   "source": [
    "# Show the 10 most common words\n",
    "\n",
    "diz = df2[df2['disney_y'] == 1]\n",
    "uni = df2[df2['disney_y'] == 0]\n",
    "\n",
    "cv = CountVectorizer(ngram_range=(1,2))\n",
    "diz_vect = cv.fit_transform(diz['selftext_clean'])\n",
    "diz_vect_df2 = pd.DataFrame(diz_vect.todense(), columns=cv.get_feature_names())\n",
    "\n",
    "cv = CountVectorizer(ngram_range=(1,2))\n",
    "uni_vect = cv.fit_transform(uni['selftext_clean'])\n",
    "uni_vect_df2 = pd.DataFrame(uni_vect.todense(), columns=cv.get_feature_names())"
   ]
  },
  {
   "cell_type": "code",
   "execution_count": 42,
   "id": "c136140a",
   "metadata": {
    "scrolled": false
   },
   "outputs": [
    {
     "data": {
      "image/png": "[encoded data removed]",
      "text/plain": [
       "<Figure size 1152x576 with 2 Axes>"
      ]
     },
     "metadata": {
      "needs_background": "light"
     },
     "output_type": "display_data"
    }
   ],
   "source": [
    "fig, ax = plt.subplots(1, 2, figsize=(16, 8))\n",
    "diz_vect_df2.sum().sort_values(ascending=False).head(10).plot(kind='barh', ax=ax[0], fontsize=14);\n",
    "uni_vect_df2.sum().sort_values(ascending=False).head(10).plot(kind='barh', ax=ax[1], fontsize=14);\n",
    "\n",
    "ax[0].set_title('Disney', fontsize=24)\n",
    "ax[1].set_title('Universal', fontsize=24)\n",
    "ax[0].invert_yaxis()\n",
    "ax[1].invert_yaxis()\n",
    "\n",
    "fig.suptitle('Top 10 Subtext Words', fontsize=24)\n",
    "fig.text(.5, .04, 'Number of Occurances', ha='center', fontsize=24);"
   ]
  },
  {
   "cell_type": "code",
   "execution_count": null,
   "id": "9fc6c178",
   "metadata": {},
   "outputs": [],
   "source": []
  },
  {
   "cell_type": "markdown",
   "id": "7c507545",
   "metadata": {},
   "source": [
    "I hesitate to eliminate stop words, partially because of technical issues (for example, it was removing all 'i's from the post, not just the word I).  I also thought they might provide needed context.  But it's clear that the stop words are only preventing real analysis, so I'm iterating and removing them.\n",
    "\n",
    "I created a work-around to the technical issue.  I filtered out my customized list of stop words before I tokenized and lemmatized.  Later, I used CountVectorizer to remove the standard English stop words."
   ]
  },
  {
   "cell_type": "code",
   "execution_count": 43,
   "id": "81df5da4",
   "metadata": {},
   "outputs": [],
   "source": [
    "cv = CountVectorizer(stop_words='english', ngram_range=(1,2))\n",
    "diz_vect = cv.fit_transform(diz['selftext_clean'])\n",
    "diz_vect_df2 = pd.DataFrame(diz_vect.todense(), columns=cv.get_feature_names())\n",
    "\n",
    "cv = CountVectorizer(stop_words='english', ngram_range=(1,2))\n",
    "uni_vect = cv.fit_transform(uni['selftext_clean'])\n",
    "uni_vect_df2 = pd.DataFrame(uni_vect.todense(), columns=cv.get_feature_names())"
   ]
  },
  {
   "cell_type": "code",
   "execution_count": 44,
   "id": "7d2bbcb2",
   "metadata": {},
   "outputs": [
    {
     "data": {
      "image/png": "[encoded data removed]",
      "text/plain": [
       "<Figure size 1152x576 with 2 Axes>"
      ]
     },
     "metadata": {
      "needs_background": "light"
     },
     "output_type": "display_data"
    }
   ],
   "source": [
    "fig, ax = plt.subplots(1, 2, figsize=(16, 8))\n",
    "diz_vect_df2.sum().sort_values(ascending=False).head(10).plot(kind='barh', ax=ax[0], fontsize=14);\n",
    "uni_vect_df2.sum().sort_values(ascending=False).head(10).plot(kind='barh', ax=ax[1], fontsize=14);\n",
    "\n",
    "ax[0].set_title('Disney', fontsize=24)\n",
    "ax[1].set_title('Universal', fontsize=24)\n",
    "ax[0].invert_yaxis()\n",
    "ax[1].invert_yaxis()\n",
    "\n",
    "fig.suptitle('Top 10 Selftext Words - Excluding Stop Words', fontsize=24)\n",
    "fig.text(.5, .04, 'Number of Occurances', ha='center', fontsize=24);"
   ]
  },
  {
   "cell_type": "code",
   "execution_count": null,
   "id": "25763b1e",
   "metadata": {},
   "outputs": [],
   "source": []
  },
  {
   "cell_type": "markdown",
   "id": "359ded60",
   "metadata": {},
   "source": [
    "For Universal, a clear brand is surfacing, although it might not be what they want.  The most common title words are related to movies and, for some reason, 2015.  For Disney, tokenization and lemmatization \n",
    "\n",
    "The two lists are completely different, whether stop words are included or not.  Universal's posts focus more on movies and watching things, whereas Disney's pertain to polls, parks, and connecting words.  Therefore, I predict that the trianing models will do well in predicting a post's subreddit."
   ]
  },
  {
   "cell_type": "code",
   "execution_count": null,
   "id": "a547ad37",
   "metadata": {},
   "outputs": [],
   "source": [
    "df2.head(2)"
   ]
  },
  {
   "cell_type": "code",
   "execution_count": null,
   "id": "e4468a79",
   "metadata": {},
   "outputs": [],
   "source": [
    "df2.isna().sum()"
   ]
  },
  {
   "cell_type": "code",
   "execution_count": null,
   "id": "d88cf232",
   "metadata": {},
   "outputs": [],
   "source": [
    "df.head(1)"
   ]
  },
  {
   "cell_type": "code",
   "execution_count": 45,
   "id": "9b9893c3",
   "metadata": {},
   "outputs": [],
   "source": [
    "# Title Analysis - Use full dataframe (n = 10,177 rows, almost 1/2 Disney, 1/2 Universal)\n",
    "\n",
    "diz = df[df['disney_y'] == 1]\n",
    "uni = df[df['disney_y'] == 0]\n",
    "\n",
    "cv = CountVectorizer(ngram_range=(1,2))\n",
    "diz_vect_title = cv.fit_transform(diz['cln_lmn_tok_title'])\n",
    "diz_vect_title_df = pd.DataFrame(diz_vect_title.todense(), columns=cv.get_feature_names())\n",
    "\n",
    "cv = CountVectorizer(ngram_range=(1,2))\n",
    "uni_vect_title = cv.fit_transform(uni['cln_lmn_tok_title'])\n",
    "uni_vect_title_df = pd.DataFrame(uni_vect_title.todense(), columns=cv.get_feature_names())"
   ]
  },
  {
   "cell_type": "code",
   "execution_count": 46,
   "id": "83f68154",
   "metadata": {},
   "outputs": [
    {
     "data": {
      "image/png": "[encoded data removed]",
      "text/plain": [
       "<Figure size 1152x504 with 2 Axes>"
      ]
     },
     "metadata": {
      "needs_background": "light"
     },
     "output_type": "display_data"
    }
   ],
   "source": [
    "# Plot title_clean data\n",
    "fig, ax = plt.subplots(1, 2, figsize=(16, 7))\n",
    "diz_vect_title_df.sum().sort_values(ascending=False).head(10).plot(kind='barh', ax=ax[0], fontsize=14);\n",
    "uni_vect_title_df.sum().sort_values(ascending=False).head(10).plot(kind='barh', ax=ax[1], fontsize=14);\n",
    "\n",
    "ax[0].set_title('Disney', fontsize=24)\n",
    "ax[1].set_title('Universal', fontsize=24)\n",
    "ax[0].invert_yaxis()\n",
    "ax[1].invert_yaxis()\n",
    "\n",
    "fig.suptitle('Top 10 Title Words', fontsize=24)\n",
    "fig.text(.5, .04, 'Number of Occurances', ha='center', fontsize=24);"
   ]
  },
  {
   "cell_type": "markdown",
   "id": "c57f1f6c",
   "metadata": {},
   "source": [
    "There are far more similarities in the titles than in the selftext.  Both lists include \"going,\" \"to,\" \"park.\""
   ]
  },
  {
   "cell_type": "code",
   "execution_count": 47,
   "id": "62919413",
   "metadata": {
    "scrolled": false
   },
   "outputs": [
    {
     "data": {
      "image/png": "[encoded data removed]",
      "text/plain": [
       "<Figure size 1152x576 with 2 Axes>"
      ]
     },
     "metadata": {
      "needs_background": "light"
     },
     "output_type": "display_data"
    }
   ],
   "source": [
    "cv = CountVectorizer(stop_words = 'english', ngram_range=(1,2))\n",
    "diz_vect_title = cv.fit_transform(diz['cln_lmn_tok_title'])\n",
    "diz_vect_title_df = pd.DataFrame(diz_vect_title.todense(), columns=cv.get_feature_names())\n",
    "\n",
    "cv = CountVectorizer(stop_words = 'english', ngram_range=(1,2))\n",
    "uni_vect_title = cv.fit_transform(uni['cln_lmn_tok_title'])\n",
    "uni_vect_title_df = pd.DataFrame(uni_vect_title.todense(), columns=cv.get_feature_names())\n",
    "\n",
    "# Plot title_clean data\n",
    "fig, ax = plt.subplots(1, 2, figsize=(16, 8))\n",
    "diz_vect_title_df.sum().sort_values(ascending=False).head(10).plot(kind='barh', ax=ax[0], fontsize=14);\n",
    "uni_vect_title_df.sum().sort_values(ascending=False).head(10).plot(kind='barh', ax=ax[1], fontsize=14);\n",
    "\n",
    "ax[0].set_title('Disney', fontsize=24)\n",
    "ax[1].set_title('Universal', fontsize=24)\n",
    "ax[0].invert_yaxis()\n",
    "ax[1].invert_yaxis()\n",
    "\n",
    "fig.suptitle('Top 10 Title Words - Exclusing Stop Words', fontsize=24)\n",
    "fig.text(.5, .04, 'Number of Occurances', ha='center', fontsize=24);"
   ]
  },
  {
   "cell_type": "markdown",
   "id": "140125c8",
   "metadata": {},
   "source": [
    "Eliminating the stop words from the titles led to more topical top words in titles.  However, I am concerned that Disney might have too little data to create a model for title, even though I used the titles from the full dataframe (n = 10,177 rows)."
   ]
  },
  {
   "cell_type": "markdown",
   "id": "4f0bf46e",
   "metadata": {},
   "source": [
    "# Magic?"
   ]
  },
  {
   "cell_type": "markdown",
   "id": "eaad44d7",
   "metadata": {},
   "source": [
    "Since magic is Disney's brand, why isn't it coming up in the top 10 most common words?  Are guests not embracing the brand? Or is there an error in my calculations?  I'm going to double-check my magic counts."
   ]
  },
  {
   "cell_type": "markdown",
   "id": "494c9cd0",
   "metadata": {},
   "source": [
    "Rechecking Magic Counts"
   ]
  },
  {
   "cell_type": "code",
   "execution_count": 49,
   "id": "58bcb04c",
   "metadata": {},
   "outputs": [],
   "source": [
    "# displays True if 'magic' appears in the cleaned, lemmatized title field\n",
    "df['magic'] = df['cln_lmn_tok_title'].apply(lambda x: 'magic' in x.lower())"
   ]
  },
  {
   "cell_type": "code",
   "execution_count": 50,
   "id": "2a6d071f",
   "metadata": {},
   "outputs": [
    {
     "data": {
      "text/plain": [
       "225"
      ]
     },
     "execution_count": 50,
     "metadata": {},
     "output_type": "execute_result"
    }
   ],
   "source": [
    "# Total number of times \"magic\" appears in the dataframe\n",
    "df['magic'].sum()"
   ]
  },
  {
   "cell_type": "code",
   "execution_count": 51,
   "id": "18f14d22",
   "metadata": {},
   "outputs": [
    {
     "data": {
      "text/plain": [
       "180"
      ]
     },
     "execution_count": 51,
     "metadata": {},
     "output_type": "execute_result"
    }
   ],
   "source": [
    "# Multiply by disney_y column to get total number of disneyparks subreddit titles containing \"magic\"\n",
    "diz_magic = df['magic'] * df['disney_y']\n",
    "diz_magic.sum()"
   ]
  },
  {
   "cell_type": "code",
   "execution_count": 52,
   "id": "ece1efd7",
   "metadata": {},
   "outputs": [
    {
     "data": {
      "text/plain": [
       "45"
      ]
     },
     "execution_count": 52,
     "metadata": {},
     "output_type": "execute_result"
    }
   ],
   "source": [
    "# Subtract to calculate instances of \"magic\" in universalstudios' post titles\n",
    "225 - 180"
   ]
  },
  {
   "cell_type": "markdown",
   "id": "f79fe76c",
   "metadata": {},
   "source": [
    "It's possible that \"magic\" just missed the top 10 words.  Still, since it's Disney's brand, I expected to see it more often.  80% of the \"magic\" mentions (n = 180) are in disneyparks subreddit titles and 20% (n = 45) are in universalstudios subreddit titles.  Has Universal edged into Disney's brand with Harry Potter?  I did remove all mentions of \"Magic Kingdom\" in the stop words to prevent easy classification.  But \"magic\" on its own was not removed by my custom filter.  Entrance and exit gate \"cast members\" (as both Disney and Universal staff are called) at Disney tell guests to \"Have a magical day!\"  But does that stick to guests?"
   ]
  },
  {
   "cell_type": "code",
   "execution_count": 53,
   "id": "053c26f0",
   "metadata": {},
   "outputs": [],
   "source": [
    "df2.to_csv('df2_clean.csv', index=True)\n",
    "df.to_csv('data_finally_clean.csv', index=True)"
   ]
  },
  {
   "cell_type": "code",
   "execution_count": null,
   "id": "40c5ba9c",
   "metadata": {},
   "outputs": [],
   "source": []
  }
 ],
 "metadata": {
  "kernelspec": {
   "display_name": "Python 3 (ipykernel)",
   "language": "python",
   "name": "python3"
  },
  "language_info": {
   "codemirror_mode": {
    "name": "ipython",
    "version": 3
   },
   "file_extension": ".py",
   "mimetype": "text/x-python",
   "name": "python",
   "nbconvert_exporter": "python",
   "pygments_lexer": "ipython3",
   "version": "3.8.11"
  }
 },
 "nbformat": 4,
 "nbformat_minor": 5
}
